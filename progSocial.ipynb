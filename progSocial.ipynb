{
 "cells": [
  {
   "cell_type": "code",
   "execution_count": 1,
   "id": "a91b74f2-17b5-4044-94a3-fe71f7d8fd47",
   "metadata": {},
   "outputs": [],
   "source": [
    "import os \n",
    "import json\n",
    "import pprint \n",
    "import tweepy"
   ]
  },
  {
   "cell_type": "code",
   "execution_count": 5,
   "id": "dad3cf56-54f2-42c0-9185-4c234a1b909c",
   "metadata": {},
   "outputs": [],
   "source": [
    "#Twitter API credentials\n",
    "api_key = \"KLRpHp13jm62W7DK0QT4eX3d7\"\n",
    "api_secret = \"30S9ZtJFYS6MLFUwdW7DVUgU6a0AXJ9ZqLw7Sey0Jr4ZU95XcU\"\n",
    "access_token = \"1455882501130493955-uGFA6LQQvtxjQC9b7UoD7DCnjZhscy\"\n",
    "access_secret = \"gEDVqti3J4gt0NzqM8PFdOYHrPQFkppwVS0redI8JzNbd\""
   ]
  },
  {
   "cell_type": "code",
   "execution_count": 6,
   "id": "9e7b00ab-2688-406b-abde-213c4e7cc75b",
   "metadata": {},
   "outputs": [
    {
     "name": "stdout",
     "output_type": "stream",
     "text": [
      "Authentication completed successfully!\n"
     ]
    }
   ],
   "source": [
    "auth = tweepy.OAuthHandler(api_key, api_secret)\n",
    "auth.set_access_token(access_token, access_secret)\n",
    "api = tweepy.API(auth, wait_on_rate_limit=True, wait_on_rate_limit_notify=True)\n",
    "if(api.verify_credentials):\n",
    "    print ('Authentication completed successfully!')"
   ]
  },
  {
   "cell_type": "markdown",
   "id": "48ed833a-fbea-4e07-a578-39948cb50298",
   "metadata": {},
   "source": [
    "# JSON"
   ]
  },
  {
   "cell_type": "code",
   "execution_count": 8,
   "id": "93c3f402-5134-496a-a3f9-23c8106e1878",
   "metadata": {},
   "outputs": [],
   "source": [
    "data_folder = \"data\"\n",
    "\n",
    "def serialize_json(folder, filename, data):\n",
    "    if not os.path.exists(folder):\n",
    "        os.makedirs(folder, exist_ok=True)\n",
    "    with open(f\"{folder}/{filename}\", 'w', encoding='utf-8') as f:\n",
    "        json.dump(data, f, ensure_ascii=False, indent=4)\n",
    "        f.close()\n",
    "    print(f\"Data serialized to path: {folder}/{filename}\")\n",
    "\n",
    "def read_json(path):\n",
    "    if os.path.exists(path):\n",
    "        with open(path, \"r\", encoding=\"utf8\") as file:\n",
    "            data = json.load(file)\n",
    "        print(f\"Data read from path: {path}\")\n",
    "        return data\n",
    "    else:\n",
    "        print(f\"No data found at path: {path}\")\n",
    "        return {}\n"
   ]
  },
  {
   "cell_type": "markdown",
   "id": "5e6ab9ff-812c-45db-bc75-6a55602178fc",
   "metadata": {},
   "source": [
    "# FOLLOWERS e FOLLOWING"
   ]
  },
  {
   "cell_type": "code",
   "execution_count": 13,
   "id": "cc7d9e5e-c6fa-463e-95cd-1b489754523d",
   "metadata": {},
   "outputs": [
    {
     "name": "stdout",
     "output_type": "stream",
     "text": [
      "Processing user mizzaro\n",
      "OlegZendel\n",
      "LyndaSaidLhadj\n",
      "acai2021\n",
      "rodger_benham\n",
      "ColoursRiot\n",
      "Data serialized to path: data/mizzaro_followers.json\n",
      "Processing user Miccighel_\n",
      "Il_Bale_\n",
      "Outsider289\n",
      "mizzaro\n",
      "EUROARTISTS\n",
      "fra_bomba6\n",
      "Data serialized to path: data/Miccighel__followers.json\n",
      "Processing user OlegZendel\n",
      "bevan_koopman\n",
      "Marwah_k\n",
      "ivrik\n",
      "Dars2022_Sympo\n",
      "ameertawfik\n",
      "Data serialized to path: data/OlegZendel_followers.json\n",
      "Processing user LyndaSaidLhadj\n",
      "Christo12656926\n",
      "gael_dias\n",
      "Nthakur20\n",
      "AthmaniAmine\n",
      "iiia_unipd\n",
      "Data serialized to path: data/LyndaSaidLhadj_followers.json\n",
      "Processing user acai2021\n",
      "TilburgU_DCA\n",
      "srj_krishna\n",
      "gabriellearuta\n",
      "lesleywilton\n",
      "sencerdeniz\n",
      "Data serialized to path: data/acai2021_followers.json\n",
      "Processing user rodger_benham\n",
      "MaksudaBilkis\n",
      "jparapar\n",
      "ameertawfik\n",
      "Jinxuan16807201\n",
      "Sannisthsoni\n",
      "Data serialized to path: data/rodger_benham_followers.json\n",
      "Processing user ColoursRiot\n"
     ]
    },
    {
     "name": "stderr",
     "output_type": "stream",
     "text": [
      "Rate limit reached. Sleeping for: 516\n"
     ]
    },
    {
     "ename": "KeyboardInterrupt",
     "evalue": "",
     "output_type": "error",
     "traceback": [
      "\u001b[1;31m---------------------------------------------------------------------------\u001b[0m",
      "\u001b[1;31mKeyboardInterrupt\u001b[0m                         Traceback (most recent call last)",
      "\u001b[1;32m~\\AppData\\Local\\Temp/ipykernel_2388/2571079736.py\u001b[0m in \u001b[0;36m<module>\u001b[1;34m\u001b[0m\n\u001b[0;32m     47\u001b[0m \u001b[1;33m\u001b[0m\u001b[0m\n\u001b[0;32m     48\u001b[0m \u001b[0ml1\u001b[0m\u001b[1;33m=\u001b[0m\u001b[0mfindUsers\u001b[0m\u001b[1;33m(\u001b[0m\u001b[1;33m[\u001b[0m\u001b[1;34m\"mizzaro\"\u001b[0m\u001b[1;33m,\u001b[0m\u001b[1;34m\"Miccighel_\"\u001b[0m\u001b[1;33m]\u001b[0m\u001b[1;33m,\u001b[0m\u001b[1;36m0\u001b[0m\u001b[1;33m)\u001b[0m\u001b[1;33m\u001b[0m\u001b[1;33m\u001b[0m\u001b[0m\n\u001b[1;32m---> 49\u001b[1;33m \u001b[0ml2\u001b[0m\u001b[1;33m=\u001b[0m\u001b[0mfindUsers\u001b[0m\u001b[1;33m(\u001b[0m\u001b[0ml1\u001b[0m\u001b[1;33m[\u001b[0m\u001b[1;34m\"mizzaro\"\u001b[0m\u001b[1;33m]\u001b[0m\u001b[1;33m,\u001b[0m\u001b[1;36m0\u001b[0m\u001b[1;33m)\u001b[0m\u001b[1;33m\u001b[0m\u001b[1;33m\u001b[0m\u001b[0m\n\u001b[0m",
      "\u001b[1;32m~\\AppData\\Local\\Temp/ipykernel_2388/2571079736.py\u001b[0m in \u001b[0;36mfindUsers\u001b[1;34m(userlist, mode)\u001b[0m\n\u001b[0;32m     15\u001b[0m             \u001b[0musergroup\u001b[0m\u001b[1;33m=\u001b[0m\u001b[0mtweepy\u001b[0m\u001b[1;33m.\u001b[0m\u001b[0mCursor\u001b[0m\u001b[1;33m(\u001b[0m\u001b[0mapi\u001b[0m\u001b[1;33m.\u001b[0m\u001b[0mfriends\u001b[0m\u001b[1;33m,\u001b[0m\u001b[0mscreen_name\u001b[0m \u001b[1;33m=\u001b[0m \u001b[0muser\u001b[0m \u001b[1;33m)\u001b[0m\u001b[1;33m.\u001b[0m\u001b[0mitems\u001b[0m\u001b[1;33m(\u001b[0m\u001b[0mquantity\u001b[0m\u001b[1;33m)\u001b[0m\u001b[1;33m\u001b[0m\u001b[1;33m\u001b[0m\u001b[0m\n\u001b[0;32m     16\u001b[0m \u001b[1;33m\u001b[0m\u001b[0m\n\u001b[1;32m---> 17\u001b[1;33m         \u001b[1;32mfor\u001b[0m \u001b[0mitem\u001b[0m \u001b[1;32min\u001b[0m \u001b[0musergroup\u001b[0m\u001b[1;33m:\u001b[0m\u001b[1;33m\u001b[0m\u001b[1;33m\u001b[0m\u001b[0m\n\u001b[0m\u001b[0;32m     18\u001b[0m \u001b[1;33m\u001b[0m\u001b[0m\n\u001b[0;32m     19\u001b[0m             \u001b[0mjson_data\u001b[0m \u001b[1;33m=\u001b[0m \u001b[0mitem\u001b[0m\u001b[1;33m.\u001b[0m\u001b[0m_json\u001b[0m\u001b[1;33m\u001b[0m\u001b[1;33m\u001b[0m\u001b[0m\n",
      "\u001b[1;32m~\\miniconda3\\envs\\ProgettoSocial\\lib\\site-packages\\tweepy\\cursor.py\u001b[0m in \u001b[0;36m__next__\u001b[1;34m(self)\u001b[0m\n\u001b[0;32m     49\u001b[0m \u001b[1;33m\u001b[0m\u001b[0m\n\u001b[0;32m     50\u001b[0m     \u001b[1;32mdef\u001b[0m \u001b[0m__next__\u001b[0m\u001b[1;33m(\u001b[0m\u001b[0mself\u001b[0m\u001b[1;33m)\u001b[0m\u001b[1;33m:\u001b[0m\u001b[1;33m\u001b[0m\u001b[1;33m\u001b[0m\u001b[0m\n\u001b[1;32m---> 51\u001b[1;33m         \u001b[1;32mreturn\u001b[0m \u001b[0mself\u001b[0m\u001b[1;33m.\u001b[0m\u001b[0mnext\u001b[0m\u001b[1;33m(\u001b[0m\u001b[1;33m)\u001b[0m\u001b[1;33m\u001b[0m\u001b[1;33m\u001b[0m\u001b[0m\n\u001b[0m\u001b[0;32m     52\u001b[0m \u001b[1;33m\u001b[0m\u001b[0m\n\u001b[0;32m     53\u001b[0m     \u001b[1;32mdef\u001b[0m \u001b[0mnext\u001b[0m\u001b[1;33m(\u001b[0m\u001b[0mself\u001b[0m\u001b[1;33m)\u001b[0m\u001b[1;33m:\u001b[0m\u001b[1;33m\u001b[0m\u001b[1;33m\u001b[0m\u001b[0m\n",
      "\u001b[1;32m~\\miniconda3\\envs\\ProgettoSocial\\lib\\site-packages\\tweepy\\cursor.py\u001b[0m in \u001b[0;36mnext\u001b[1;34m(self)\u001b[0m\n\u001b[0;32m    241\u001b[0m         \u001b[1;32mif\u001b[0m \u001b[0mself\u001b[0m\u001b[1;33m.\u001b[0m\u001b[0mcurrent_page\u001b[0m \u001b[1;32mis\u001b[0m \u001b[1;32mNone\u001b[0m \u001b[1;32mor\u001b[0m \u001b[0mself\u001b[0m\u001b[1;33m.\u001b[0m\u001b[0mpage_index\u001b[0m \u001b[1;33m==\u001b[0m \u001b[0mlen\u001b[0m\u001b[1;33m(\u001b[0m\u001b[0mself\u001b[0m\u001b[1;33m.\u001b[0m\u001b[0mcurrent_page\u001b[0m\u001b[1;33m)\u001b[0m \u001b[1;33m-\u001b[0m \u001b[1;36m1\u001b[0m\u001b[1;33m:\u001b[0m\u001b[1;33m\u001b[0m\u001b[1;33m\u001b[0m\u001b[0m\n\u001b[0;32m    242\u001b[0m             \u001b[1;31m# Reached end of current page, get the next page...\u001b[0m\u001b[1;33m\u001b[0m\u001b[1;33m\u001b[0m\u001b[1;33m\u001b[0m\u001b[0m\n\u001b[1;32m--> 243\u001b[1;33m             \u001b[0mself\u001b[0m\u001b[1;33m.\u001b[0m\u001b[0mcurrent_page\u001b[0m \u001b[1;33m=\u001b[0m \u001b[0mself\u001b[0m\u001b[1;33m.\u001b[0m\u001b[0mpage_iterator\u001b[0m\u001b[1;33m.\u001b[0m\u001b[0mnext\u001b[0m\u001b[1;33m(\u001b[0m\u001b[1;33m)\u001b[0m\u001b[1;33m\u001b[0m\u001b[1;33m\u001b[0m\u001b[0m\n\u001b[0m\u001b[0;32m    244\u001b[0m             \u001b[1;32mwhile\u001b[0m \u001b[0mlen\u001b[0m\u001b[1;33m(\u001b[0m\u001b[0mself\u001b[0m\u001b[1;33m.\u001b[0m\u001b[0mcurrent_page\u001b[0m\u001b[1;33m)\u001b[0m \u001b[1;33m==\u001b[0m \u001b[1;36m0\u001b[0m\u001b[1;33m:\u001b[0m\u001b[1;33m\u001b[0m\u001b[1;33m\u001b[0m\u001b[0m\n\u001b[0;32m    245\u001b[0m                 \u001b[0mself\u001b[0m\u001b[1;33m.\u001b[0m\u001b[0mcurrent_page\u001b[0m \u001b[1;33m=\u001b[0m \u001b[0mself\u001b[0m\u001b[1;33m.\u001b[0m\u001b[0mpage_iterator\u001b[0m\u001b[1;33m.\u001b[0m\u001b[0mnext\u001b[0m\u001b[1;33m(\u001b[0m\u001b[1;33m)\u001b[0m\u001b[1;33m\u001b[0m\u001b[1;33m\u001b[0m\u001b[0m\n",
      "\u001b[1;32m~\\miniconda3\\envs\\ProgettoSocial\\lib\\site-packages\\tweepy\\cursor.py\u001b[0m in \u001b[0;36mnext\u001b[1;34m(self)\u001b[0m\n\u001b[0;32m     73\u001b[0m         \u001b[1;32mif\u001b[0m \u001b[0mself\u001b[0m\u001b[1;33m.\u001b[0m\u001b[0mnext_cursor\u001b[0m \u001b[1;33m==\u001b[0m \u001b[1;36m0\u001b[0m \u001b[1;32mor\u001b[0m \u001b[1;33m(\u001b[0m\u001b[0mself\u001b[0m\u001b[1;33m.\u001b[0m\u001b[0mlimit\u001b[0m \u001b[1;32mand\u001b[0m \u001b[0mself\u001b[0m\u001b[1;33m.\u001b[0m\u001b[0mnum_tweets\u001b[0m \u001b[1;33m==\u001b[0m \u001b[0mself\u001b[0m\u001b[1;33m.\u001b[0m\u001b[0mlimit\u001b[0m\u001b[1;33m)\u001b[0m\u001b[1;33m:\u001b[0m\u001b[1;33m\u001b[0m\u001b[1;33m\u001b[0m\u001b[0m\n\u001b[0;32m     74\u001b[0m             \u001b[1;32mraise\u001b[0m \u001b[0mStopIteration\u001b[0m\u001b[1;33m\u001b[0m\u001b[1;33m\u001b[0m\u001b[0m\n\u001b[1;32m---> 75\u001b[1;33m         data, cursors = self.method(cursor=self.next_cursor,\n\u001b[0m\u001b[0;32m     76\u001b[0m                                     \u001b[1;33m*\u001b[0m\u001b[0mself\u001b[0m\u001b[1;33m.\u001b[0m\u001b[0margs\u001b[0m\u001b[1;33m,\u001b[0m\u001b[1;33m\u001b[0m\u001b[1;33m\u001b[0m\u001b[0m\n\u001b[0;32m     77\u001b[0m                                     **self.kwargs)\n",
      "\u001b[1;32m~\\miniconda3\\envs\\ProgettoSocial\\lib\\site-packages\\tweepy\\binder.py\u001b[0m in \u001b[0;36m_call\u001b[1;34m(*args, **kwargs)\u001b[0m\n\u001b[0;32m    251\u001b[0m                 \u001b[1;32mreturn\u001b[0m \u001b[0mmethod\u001b[0m\u001b[1;33m\u001b[0m\u001b[1;33m\u001b[0m\u001b[0m\n\u001b[0;32m    252\u001b[0m             \u001b[1;32melse\u001b[0m\u001b[1;33m:\u001b[0m\u001b[1;33m\u001b[0m\u001b[1;33m\u001b[0m\u001b[0m\n\u001b[1;32m--> 253\u001b[1;33m                 \u001b[1;32mreturn\u001b[0m \u001b[0mmethod\u001b[0m\u001b[1;33m.\u001b[0m\u001b[0mexecute\u001b[0m\u001b[1;33m(\u001b[0m\u001b[1;33m)\u001b[0m\u001b[1;33m\u001b[0m\u001b[1;33m\u001b[0m\u001b[0m\n\u001b[0m\u001b[0;32m    254\u001b[0m         \u001b[1;32mfinally\u001b[0m\u001b[1;33m:\u001b[0m\u001b[1;33m\u001b[0m\u001b[1;33m\u001b[0m\u001b[0m\n\u001b[0;32m    255\u001b[0m             \u001b[0mmethod\u001b[0m\u001b[1;33m.\u001b[0m\u001b[0msession\u001b[0m\u001b[1;33m.\u001b[0m\u001b[0mclose\u001b[0m\u001b[1;33m(\u001b[0m\u001b[1;33m)\u001b[0m\u001b[1;33m\u001b[0m\u001b[1;33m\u001b[0m\u001b[0m\n",
      "\u001b[1;32m~\\miniconda3\\envs\\ProgettoSocial\\lib\\site-packages\\tweepy\\binder.py\u001b[0m in \u001b[0;36mexecute\u001b[1;34m(self)\u001b[0m\n\u001b[0;32m    161\u001b[0m                                     \u001b[1;32mif\u001b[0m \u001b[0mself\u001b[0m\u001b[1;33m.\u001b[0m\u001b[0mwait_on_rate_limit_notify\u001b[0m\u001b[1;33m:\u001b[0m\u001b[1;33m\u001b[0m\u001b[1;33m\u001b[0m\u001b[0m\n\u001b[0;32m    162\u001b[0m                                         \u001b[0mlog\u001b[0m\u001b[1;33m.\u001b[0m\u001b[0mwarning\u001b[0m\u001b[1;33m(\u001b[0m\u001b[1;34m\"Rate limit reached. Sleeping for: %d\"\u001b[0m \u001b[1;33m%\u001b[0m \u001b[0msleep_time\u001b[0m\u001b[1;33m)\u001b[0m\u001b[1;33m\u001b[0m\u001b[1;33m\u001b[0m\u001b[0m\n\u001b[1;32m--> 163\u001b[1;33m                                     \u001b[0mtime\u001b[0m\u001b[1;33m.\u001b[0m\u001b[0msleep\u001b[0m\u001b[1;33m(\u001b[0m\u001b[0msleep_time\u001b[0m \u001b[1;33m+\u001b[0m \u001b[1;36m5\u001b[0m\u001b[1;33m)\u001b[0m  \u001b[1;31m# sleep for few extra sec\u001b[0m\u001b[1;33m\u001b[0m\u001b[1;33m\u001b[0m\u001b[0m\n\u001b[0m\u001b[0;32m    164\u001b[0m \u001b[1;33m\u001b[0m\u001b[0m\n\u001b[0;32m    165\u001b[0m                 \u001b[1;31m# if self.wait_on_rate_limit and self._reset_time is not None and \\\u001b[0m\u001b[1;33m\u001b[0m\u001b[1;33m\u001b[0m\u001b[1;33m\u001b[0m\u001b[0m\n",
      "\u001b[1;31mKeyboardInterrupt\u001b[0m: "
     ]
    }
   ],
   "source": [
    "def findUsers(userlist,mode): #mode: 0 = followers, 1 = following\n",
    "    quantity=20\n",
    "    foundlist={}\n",
    "    l2list = {}\n",
    "\n",
    "    for user in userlist:\n",
    "        print(f\"Processing user {user}\")\n",
    "\n",
    "        found = []\n",
    "        l2list[user]=[]\n",
    "\n",
    "        if mode==0:\n",
    "            usergroup=tweepy.Cursor(api.followers,screen_name = user ).items(quantity)\n",
    "        else:\n",
    "            usergroup=tweepy.Cursor(api.friends,screen_name = user ).items(quantity)\n",
    "\n",
    "        for item in usergroup:\n",
    "\n",
    "            json_data = item._json\n",
    "\n",
    "            found_user = {}\n",
    "            found_user[\"id\"] = json_data[\"id\"]\n",
    "            found_user[\"name\"] = json_data[\"name\"]\n",
    "            found_user[\"screen_name\"] = json_data[\"screen_name\"]\n",
    "            found_user[\"location\"] = json_data[\"location\"]\n",
    "            found_user[\"followers_count\"] = json_data[\"followers_count\"]\n",
    "            found_user[\"friends_count\"] = json_data[\"friends_count\"]\n",
    "            found_user[\"protected\"] = json_data[\"protected\"]\n",
    "\n",
    "\n",
    "            if item.friends_count < 1000 and item.followers_count<1000 and json_data[\"protected\"] == False and (found_user not in found):\n",
    "                found.append(found_user)\n",
    "                l2list[user].append(item.screen_name)\n",
    "                print(item.screen_name)\n",
    "\n",
    "            if len(found) >= 5:\n",
    "                break\n",
    "\n",
    "        foundlist[user] = found\n",
    "\n",
    "        if mode==0:\n",
    "            serialize_json(data_folder, user+\"_followers.json\", foundlist)\n",
    "        else:\n",
    "            serialize_json(data_folder, user+\"_following.json\", foundlist)\n",
    "\n",
    "    return l2list\n",
    "\n",
    "l1_followers=findUsers([\"mizzaro\",\"Miccighel_\"],0)\n",
    "l1_following=findUsers([\"mizzaro\",\"Miccighel_\"],1)\n",
    "\n",
    "l2a_followers_mizzaro=findUsers(l1_followers[\"mizzaro\"],0)\n",
    "l2a_following_mizzaro=findUsers(l1_followers[\"mizzaro\"],1)\n",
    "\n",
    "l2a_followers_miccighel=findUsers(l1_followers[\"Miccighel_\"],0)\n",
    "l2a_following_miccighel=findUsers(l1_followers[\"Miccighel_\"],1)\n",
    "\n",
    "l2b_followers_mizzaro=findUsers(l1_following[\"mizzaro\"],0)\n",
    "l2b_following_mizzaro=findUsers(l1_following[\"mizzaro\"],1)\n",
    "\n",
    "l2b_followers_miccighel=findUsers(l1_following[\"Miccighel_\"],0)\n",
    "l2b_following_miccighel=findUsers(l1_following[\"Miccighel_\"],1)"
   ]
  },
  {
   "cell_type": "markdown",
   "id": "30f13655-1bcb-43e9-b32a-15f3c25efd97",
   "metadata": {},
   "source": [
    "# Dettagli del profilo dei followers di primo e secondo livello"
   ]
  },
  {
   "cell_type": "code",
   "execution_count": null,
   "id": "55a504f4-ed9e-42d4-9f28-ef541f5e1be3",
   "metadata": {},
   "outputs": [],
   "source": [
    "def userDetails(userList):\n",
    "    \n",
    "    for user in userList:\n",
    "        \n",
    "        raw_data = api.get_user(user)\n",
    "        json_data = raw_data._json\n",
    "        profile_data = {}\n",
    "        profile_data[\"id\"] = json_data[\"id\"]\n",
    "        profile_data[\"name\"] = json_data[\"name\"]\n",
    "        profile_data[\"screen_name\"] = json_data[\"screen_name\"]\n",
    "        profile_data[\"location\"] = json_data[\"location\"]\n",
    "        profile_data[\"description\"] = json_data[\"description\"]\n",
    "        profile_data[\"followers_count\"] = json_data[\"followers_count\"]\n",
    "        profile_data[\"friends_count\"] = json_data[\"friends_count\"]\n",
    "        serialize_json(data_folder, \"1_\"+profile_data[\"screen_name\"]+\"_profile_data.json\", profile_data)\n",
    "        pp.pprint(profile_data)\n",
    "        \n",
    "userDetails(l1_followers)\n",
    "userDetails(l2a_followers_mizzaro)\n",
    "userDetails(l2a_followers_miccighel)\n",
    "userDetails(l2b_followers_mizzaro)\n",
    "userDetails(l2b_followers_miccighel)"
   ]
  },
  {
   "cell_type": "markdown",
   "id": "46b38cdf-0670-4053-b227-7f6b7a2d887e",
   "metadata": {},
   "source": [
    "# Ultimi 5 tweet di ciascun follower di primo e secondo livello"
   ]
  },
  {
   "cell_type": "code",
   "execution_count": null,
   "id": "a223e5fe-c887-4433-8841-226f275eb521",
   "metadata": {},
   "outputs": [],
   "source": [
    "def getTweets(userList):\n",
    "    \n",
    "    for user in userList:\n",
    "        \n",
    "        tweets = []\n",
    "        for item in tweepy.Cursor(\n",
    "                api.user_timeline, \n",
    "                screen_name=user,\n",
    "                tweet_mode=\"extended\"\n",
    "            ).items(5):\n",
    "            raw_tweet = item._json\n",
    "            tweet = {}\n",
    "            tweet[\"id\"]= raw_tweet[\"id\"]\n",
    "            tweet[\"created_at\"] = raw_tweet[\"created_at\"]\n",
    "            tweet[\"full_text\"] = raw_tweet[\"full_text\"],\n",
    "            tweet[\"favorite_count\"]= raw_tweet[\"favorite_count\"]\n",
    "            tweets.append(tweet)\n",
    "        serialize_json(data_folder, user[\"screen_name\"]_+\"recent_tweets.json\", tweets)\n",
    "        pp.pprint(tweets)\n",
    "        \n",
    "getTweets(l1_followers)\n",
    "getTweets(l2a_followers_mizzaro)\n",
    "getTweets(l2a_followers_miccighel)\n",
    "getTweets(l2b_followers_mizzaro)\n",
    "getTweets(l2b_followers_miccighel)"
   ]
  },
  {
   "cell_type": "markdown",
   "id": "d0b0da07-9112-40af-a747-4657629c31ec",
   "metadata": {},
   "source": [
    "# Rete sociale"
   ]
  },
  {
   "cell_type": "code",
   "execution_count": null,
   "id": "41aa036e-d4d2-499c-a15b-7226c4762df8",
   "metadata": {},
   "outputs": [],
   "source": []
  }
 ],
 "metadata": {
  "kernelspec": {
   "display_name": "Python 3",
   "language": "python",
   "name": "python3"
  },
  "language_info": {
   "codemirror_mode": {
    "name": "ipython",
    "version": 3
   },
   "file_extension": ".py",
   "mimetype": "text/x-python",
   "name": "python",
   "nbconvert_exporter": "python",
   "pygments_lexer": "ipython3",
   "version": "3.9.5"
  }
 },
 "nbformat": 4,
 "nbformat_minor": 5
}
