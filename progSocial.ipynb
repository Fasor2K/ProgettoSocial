{
 "cells": [
  {
   "cell_type": "code",
   "execution_count": 73,
   "id": "a91b74f2-17b5-4044-94a3-fe71f7d8fd47",
   "metadata": {},
   "outputs": [],
   "source": [
    "import os \n",
    "import json\n",
    "import pprint as pp\n",
    "import tweepy"
   ]
  },
  {
   "cell_type": "code",
   "execution_count": 74,
   "id": "dad3cf56-54f2-42c0-9185-4c234a1b909c",
   "metadata": {},
   "outputs": [],
   "source": [
    "#Twitter API credentials\n",
    "api_key = \"KLRpHp13jm62W7DK0QT4eX3d7\"\n",
    "api_secret = \"30S9ZtJFYS6MLFUwdW7DVUgU6a0AXJ9ZqLw7Sey0Jr4ZU95XcU\"\n",
    "access_token = \"1455882501130493955-uGFA6LQQvtxjQC9b7UoD7DCnjZhscy\"\n",
    "access_secret = \"gEDVqti3J4gt0NzqM8PFdOYHrPQFkppwVS0redI8JzNbd\""
   ]
  },
  {
   "cell_type": "code",
   "execution_count": 75,
   "id": "9e7b00ab-2688-406b-abde-213c4e7cc75b",
   "metadata": {},
   "outputs": [
    {
     "name": "stdout",
     "output_type": "stream",
     "text": [
      "Authentication completed successfully!\n"
     ]
    }
   ],
   "source": [
    "auth = tweepy.OAuthHandler(api_key, api_secret)\n",
    "auth.set_access_token(access_token, access_secret)\n",
    "api = tweepy.API(auth, wait_on_rate_limit=True, wait_on_rate_limit_notify=True)\n",
    "if(api.verify_credentials):\n",
    "    print ('Authentication completed successfully!')"
   ]
  },
  {
   "cell_type": "markdown",
   "id": "48ed833a-fbea-4e07-a578-39948cb50298",
   "metadata": {},
   "source": [
    "# JSON"
   ]
  },
  {
   "cell_type": "code",
   "execution_count": 76,
   "id": "93c3f402-5134-496a-a3f9-23c8106e1878",
   "metadata": {},
   "outputs": [],
   "source": [
    "data_folder = \"data\"\n",
    "\n",
    "def serialize_json(folder, filename, data):\n",
    "    if not os.path.exists(folder):\n",
    "        os.makedirs(folder, exist_ok=True)\n",
    "    with open(f\"{folder}/{filename}\", 'w', encoding='utf-8') as f:\n",
    "        json.dump(data, f, ensure_ascii=False, indent=4)\n",
    "        f.close()\n",
    "    print(f\"Data serialized to path: {folder}/{filename}\")\n",
    "\n",
    "def read_json(path):\n",
    "    if os.path.exists(path):\n",
    "        with open(path, \"r\", encoding=\"utf8\") as file:\n",
    "            data = json.load(file)\n",
    "        print(f\"Data read from path: {path}\")\n",
    "        return data\n",
    "    else:\n",
    "        print(f\"No data found at path: {path}\")\n",
    "        return {}\n"
   ]
  },
  {
   "cell_type": "markdown",
   "id": "829ee4df-ef59-4757-8307-83b65c11d1a6",
   "metadata": {},
   "source": [
    "# FOLLOWERS "
   ]
  },
  {
   "cell_type": "code",
   "execution_count": 77,
   "id": "cc7d9e5e-c6fa-463e-95cd-1b489754523d",
   "metadata": {},
   "outputs": [
    {
     "name": "stdout",
     "output_type": "stream",
     "text": [
      "Processing Avenger mizzaro\n",
      "OlegZendel\n",
      "LyndaSaidLhadj\n",
      "acai2021\n",
      "rodger_benham\n",
      "ColoursRiot\n",
      "Processing Avenger Miccighel_\n",
      "Il_Bale_\n",
      "Outsider289\n",
      "mizzaro\n",
      "EUROARTISTS\n",
      "fra_bomba6\n",
      "Data serialized to path: data/avengers_followers.json\n"
     ]
    }
   ],
   "source": [
    "avengers = [\"mizzaro\", \"Miccighel_\"]\n",
    "followers = {}\n",
    "quantity = 20\n",
    "\n",
    "for avenger in avengers:\n",
    "    \n",
    "    print(f\"Processing Avenger {avenger}\")\n",
    "    \n",
    "    followers_of_avenger = []\n",
    "\n",
    "    for item in tweepy.Cursor(api.followers,screen_name = avenger ).items(quantity):\n",
    "        \n",
    "        json_data = item._json\n",
    "        \n",
    "        found_follower = {}\n",
    "        found_follower[\"id\"] = json_data[\"id\"]\n",
    "        found_follower[\"name\"] = json_data[\"name\"]\n",
    "        found_follower[\"screen_name\"] = json_data[\"screen_name\"]\n",
    "        found_follower[\"location\"] = json_data[\"location\"]\n",
    "        found_follower[\"followers_count\"] = json_data[\"followers_count\"]\n",
    "        found_follower[\"friends_count\"] = json_data[\"friends_count\"]\n",
    "    \n",
    "        \n",
    "        if item.friends_count < 1000 and item.followers_count<1000:\n",
    "            followers_of_avenger.append(found_follower)\n",
    "            print(item.screen_name)\n",
    "            \n",
    "        if len(followers_of_avenger) >= 5:\n",
    "            break\n",
    "            \n",
    "    followers[avenger] = followers_of_avenger\n",
    "    \n",
    "serialize_json(data_folder, \"avengers_followers.json\", followers)"
   ]
  },
  {
   "cell_type": "code",
   "execution_count": 78,
   "id": "706667f1-8f20-4edc-b75c-ea23da773d18",
   "metadata": {},
   "outputs": [
    {
     "name": "stdout",
     "output_type": "stream",
     "text": [
      "Data read from path: data/avengers_followers.json\n",
      "[{'followers_count': 92,\n",
      "  'friends_count': 513,\n",
      "  'id': 998681467696885761,\n",
      "  'location': 'Melbourne, Victoria',\n",
      "  'name': 'Oleg Zendel',\n",
      "  'screen_name': 'OlegZendel'},\n",
      " {'followers_count': 341,\n",
      "  'friends_count': 768,\n",
      "  'id': 1369078711,\n",
      "  'location': 'Algiers',\n",
      "  'name': 'Lynda Said Lhadj',\n",
      "  'screen_name': 'LyndaSaidLhadj'},\n",
      " {'followers_count': 183,\n",
      "  'friends_count': 53,\n",
      "  'id': 1400407060311851009,\n",
      "  'location': 'Berlin',\n",
      "  'name': 'acai2021',\n",
      "  'screen_name': 'acai2021'},\n",
      " {'followers_count': 132,\n",
      "  'friends_count': 270,\n",
      "  'id': 1265795638551212032,\n",
      "  'location': '',\n",
      "  'name': 'Rodger Benham',\n",
      "  'screen_name': 'rodger_benham'},\n",
      " {'followers_count': 27,\n",
      "  'friends_count': 235,\n",
      "  'id': 740410382,\n",
      "  'location': '',\n",
      "  'name': 'ἀν-ἀρχή',\n",
      "  'screen_name': 'ColoursRiot'}]\n"
     ]
    }
   ],
   "source": [
    "followers = read_json(f\"{data_folder}/avengers_followers.json\")\n",
    "# (Pretty) print the first three followers of Iron Man\n",
    "pp = pprint.PrettyPrinter()\n",
    "pp.pprint(followers['mizzaro'][:5])"
   ]
  },
  {
   "cell_type": "code",
   "execution_count": 79,
   "id": "9677767c-5dad-43fe-afff-cd446e30ec82",
   "metadata": {},
   "outputs": [
    {
     "name": "stdout",
     "output_type": "stream",
     "text": [
      "Data read from path: data/avengers_followers.json\n",
      "[{'followers_count': 1,\n",
      "  'friends_count': 20,\n",
      "  'id': 1455458703524700161,\n",
      "  'location': '',\n",
      "  'name': 'Federico',\n",
      "  'screen_name': 'Il_Bale_'},\n",
      " {'followers_count': 125,\n",
      "  'friends_count': 117,\n",
      "  'id': 822006673267159040,\n",
      "  'location': '',\n",
      "  'name': 'Outsider 🐝',\n",
      "  'screen_name': 'Outsider289'},\n",
      " {'followers_count': 162,\n",
      "  'friends_count': 358,\n",
      "  'id': 18932422,\n",
      "  'location': '',\n",
      "  'name': 'mizzaro',\n",
      "  'screen_name': 'mizzaro'},\n",
      " {'followers_count': 185,\n",
      "  'friends_count': 463,\n",
      "  'id': 2478451308,\n",
      "  'location': '',\n",
      "  'name': 'EURO ARTISTS',\n",
      "  'screen_name': 'EUROARTISTS'},\n",
      " {'followers_count': 10,\n",
      "  'friends_count': 62,\n",
      "  'id': 860108790645084160,\n",
      "  'location': 'Lignano Sabbiadoro, Friuli-Ven',\n",
      "  'name': 'Francesco',\n",
      "  'screen_name': 'fra_bomba6'}]\n"
     ]
    }
   ],
   "source": [
    "followers = read_json(f\"{data_folder}/avengers_followers.json\")\n",
    "# (Pretty) print the first three followers of Iron Man\n",
    "pp = pprint.PrettyPrinter()\n",
    "pp.pprint(followers['Miccighel_'][:5])"
   ]
  },
  {
   "cell_type": "markdown",
   "id": "db8fd6e7-e977-4b46-b990-725a55b1ecd4",
   "metadata": {},
   "source": [
    "# FOLLOWING"
   ]
  },
  {
   "cell_type": "code",
   "execution_count": 80,
   "id": "9121fb2e-e410-491a-8030-8e14a0368e1a",
   "metadata": {},
   "outputs": [
    {
     "name": "stdout",
     "output_type": "stream",
     "text": [
      "Processing Avenger mizzaro\n",
      "MaxZancanaro\n",
      "CIRES_AU\n",
      "mccart_richard\n",
      "Miccighel_\n",
      "rmit_cidda\n",
      "Processing Avenger Miccighel_\n",
      "fra_bomba6\n",
      "Outsider289\n",
      "BiancolinoElisa\n",
      "ZuzanPink\n",
      "eglu81\n",
      "Data serialized to path: data/avengers_followers.json\n"
     ]
    }
   ],
   "source": [
    "avengers = [\"mizzaro\", \"Miccighel_\"]\n",
    "followers = {}\n",
    "quantity = 20\n",
    "\n",
    "for avenger in avengers:\n",
    "    \n",
    "    print(f\"Processing Avenger {avenger}\")\n",
    "    \n",
    "    followers_of_avenger = []\n",
    "\n",
    "    for item in tweepy.Cursor(api.friends,screen_name = avenger ).items(quantity):\n",
    "        \n",
    "        json_data = item._json\n",
    "        \n",
    "        found_follower = {}\n",
    "        found_follower[\"id\"] = json_data[\"id\"]\n",
    "        found_follower[\"name\"] = json_data[\"name\"]\n",
    "        found_follower[\"screen_name\"] = json_data[\"screen_name\"]\n",
    "        found_follower[\"location\"] = json_data[\"location\"]\n",
    "        found_follower[\"followers_count\"] = json_data[\"followers_count\"]\n",
    "        found_follower[\"friends_count\"] = json_data[\"friends_count\"]\n",
    "    \n",
    "        \n",
    "        if item.friends_count < 1000 and item.followers_count<1000:\n",
    "            followers_of_avenger.append(found_follower)\n",
    "            print(item.screen_name)\n",
    "            \n",
    "        if len(followers_of_avenger) >= 5:\n",
    "            break\n",
    "            \n",
    "    followers[avenger] = followers_of_avenger\n",
    "    \n",
    "serialize_json(data_folder, \"avengers_followers.json\", followers)"
   ]
  },
  {
   "cell_type": "code",
   "execution_count": 81,
   "id": "2fb38038-abb8-4fc4-a120-381a255774e7",
   "metadata": {},
   "outputs": [
    {
     "name": "stdout",
     "output_type": "stream",
     "text": [
      "Data read from path: data/avengers_followers.json\n",
      "[{'followers_count': 211,\n",
      "  'friends_count': 197,\n",
      "  'id': 1239642882,\n",
      "  'location': '',\n",
      "  'name': 'Massimo Zancanaro',\n",
      "  'screen_name': 'MaxZancanaro'},\n",
      " {'followers_count': 37,\n",
      "  'friends_count': 100,\n",
      "  'id': 1425660262653120517,\n",
      "  'location': '',\n",
      "  'name': 'ARC Training Centre for Information Resilience',\n",
      "  'screen_name': 'CIRES_AU'},\n",
      " {'followers_count': 51,\n",
      "  'friends_count': 83,\n",
      "  'id': 1020854242150453253,\n",
      "  'location': '',\n",
      "  'name': 'Richard McCart',\n",
      "  'screen_name': 'mccart_richard'},\n",
      " {'followers_count': 330,\n",
      "  'friends_count': 213,\n",
      "  'id': 15750573,\n",
      "  'location': 'Chiusaforte',\n",
      "  'name': 'Michael Soprano',\n",
      "  'screen_name': 'Miccighel_'},\n",
      " {'followers_count': 171,\n",
      "  'friends_count': 120,\n",
      "  'id': 1187585868493537280,\n",
      "  'location': 'Melbourne, Australia',\n",
      "  'name': 'Centre for Information Discovery & Data Analytics',\n",
      "  'screen_name': 'rmit_cidda'}]\n"
     ]
    }
   ],
   "source": [
    "followers = read_json(f\"{data_folder}/avengers_followers.json\")\n",
    "# (Pretty) print the first three followers of Iron Man\n",
    "pp = pprint.PrettyPrinter()\n",
    "pp.pprint(followers['mizzaro'][:5])"
   ]
  },
  {
   "cell_type": "code",
   "execution_count": 82,
   "id": "ab55755c-66c1-481c-836e-42ef94b261d5",
   "metadata": {},
   "outputs": [
    {
     "name": "stdout",
     "output_type": "stream",
     "text": [
      "Data read from path: data/avengers_followers.json\n",
      "[{'followers_count': 10,\n",
      "  'friends_count': 62,\n",
      "  'id': 860108790645084160,\n",
      "  'location': 'Lignano Sabbiadoro, Friuli-Ven',\n",
      "  'name': 'Francesco',\n",
      "  'screen_name': 'fra_bomba6'},\n",
      " {'followers_count': 125,\n",
      "  'friends_count': 117,\n",
      "  'id': 822006673267159040,\n",
      "  'location': '',\n",
      "  'name': 'Outsider 🐝',\n",
      "  'screen_name': 'Outsider289'},\n",
      " {'followers_count': 602,\n",
      "  'friends_count': 863,\n",
      "  'id': 700064764,\n",
      "  'location': 'Udine, Friuli-Venezia Giulia',\n",
      "  'name': 'ELISA',\n",
      "  'screen_name': 'BiancolinoElisa'},\n",
      " {'followers_count': 261,\n",
      "  'friends_count': 600,\n",
      "  'id': 778856886,\n",
      "  'location': '',\n",
      "  'name': 'Zuzana Pinkosova',\n",
      "  'screen_name': 'ZuzanPink'},\n",
      " {'followers_count': 633,\n",
      "  'friends_count': 679,\n",
      "  'id': 19659370,\n",
      "  'location': 'Brisbane, Queensland',\n",
      "  'name': 'Gianluca Demartini',\n",
      "  'screen_name': 'eglu81'}]\n"
     ]
    }
   ],
   "source": [
    "followers = read_json(f\"{data_folder}/avengers_followers.json\")\n",
    "# (Pretty) print the first three followers of Iron Man\n",
    "pp = pprint.PrettyPrinter()\n",
    "pp.pprint(followers['Miccighel_'][:5])"
   ]
  },
  {
   "cell_type": "code",
   "execution_count": null,
   "id": "31cd25bf-d14c-4a06-aada-a312767239a4",
   "metadata": {},
   "outputs": [],
   "source": []
  }
 ],
 "metadata": {
  "kernelspec": {
   "display_name": "Python 3",
   "language": "python",
   "name": "python3"
  },
  "language_info": {
   "codemirror_mode": {
    "name": "ipython",
    "version": 3
   },
   "file_extension": ".py",
   "mimetype": "text/x-python",
   "name": "python",
   "nbconvert_exporter": "python",
   "pygments_lexer": "ipython3",
   "version": "3.9.5"
  }
 },
 "nbformat": 4,
 "nbformat_minor": 5
}
