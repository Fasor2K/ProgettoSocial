{
 "cells": [
  {
   "cell_type": "code",
   "execution_count": null,
   "metadata": {
    "collapsed": true
   },
   "outputs": [],
   "source": []
  },
  {
   "cell_type": "markdown",
   "source": [
    "# IMPORT ED AUTENTICAZIONE"
   ],
   "metadata": {
    "collapsed": false
   }
  },
  {
   "cell_type": "code",
   "execution_count": 7,
   "outputs": [],
   "source": [
    "import os\n",
    "import json\n",
    "import tweepy\n",
    "import math\n",
    "import pprint as pp"
   ],
   "metadata": {
    "collapsed": false,
    "pycharm": {
     "name": "#%%\n"
    }
   }
  },
  {
   "cell_type": "code",
   "execution_count": 8,
   "outputs": [
    {
     "name": "stdout",
     "output_type": "stream",
     "text": [
      "Authentication completed successfully!\n"
     ]
    },
    {
     "ename": "AttributeError",
     "evalue": "module 'tweepy' has no attribute 'Client'",
     "output_type": "error",
     "traceback": [
      "\u001B[1;31m---------------------------------------------------------------------------\u001B[0m",
      "\u001B[1;31mAttributeError\u001B[0m                            Traceback (most recent call last)",
      "\u001B[1;32m~\\AppData\\Local\\Temp/ipykernel_1588/1249589515.py\u001B[0m in \u001B[0;36m<module>\u001B[1;34m\u001B[0m\n\u001B[0;32m     12\u001B[0m     \u001B[0mprint\u001B[0m \u001B[1;33m(\u001B[0m\u001B[1;34m'Authentication completed successfully!'\u001B[0m\u001B[1;33m)\u001B[0m\u001B[1;33m\u001B[0m\u001B[1;33m\u001B[0m\u001B[0m\n\u001B[0;32m     13\u001B[0m \u001B[1;33m\u001B[0m\u001B[0m\n\u001B[1;32m---> 14\u001B[1;33m client = tweepy.Client(\n\u001B[0m\u001B[0;32m     15\u001B[0m     \u001B[0mconsumer_key\u001B[0m\u001B[1;33m=\u001B[0m\u001B[0mapi_key\u001B[0m\u001B[1;33m,\u001B[0m\u001B[1;33m\u001B[0m\u001B[1;33m\u001B[0m\u001B[0m\n\u001B[0;32m     16\u001B[0m     \u001B[0mconsumer_secret\u001B[0m\u001B[1;33m=\u001B[0m\u001B[0mapi_secret\u001B[0m\u001B[1;33m,\u001B[0m\u001B[1;33m\u001B[0m\u001B[1;33m\u001B[0m\u001B[0m\n",
      "\u001B[1;31mAttributeError\u001B[0m: module 'tweepy' has no attribute 'Client'"
     ]
    }
   ],
   "source": [
    "#Twitter API credentials\n",
    "api_key = \"KLRpHp13jm62W7DK0QT4eX3d7\"\n",
    "api_secret = \"30S9ZtJFYS6MLFUwdW7DVUgU6a0AXJ9ZqLw7Sey0Jr4ZU95XcU\"\n",
    "access_token = \"1455882501130493955-uGFA6LQQvtxjQC9b7UoD7DCnjZhscy\"\n",
    "access_secret = \"gEDVqti3J4gt0NzqM8PFdOYHrPQFkppwVS0redI8JzNbd\"\n",
    "bearer_token = \"AAAAAAAAAAAAAAAAAAAAAFOvVwEAAAAAVu7OI2bxAjD1D2mDIcAIxVpGZfc%3DKQuU9n4e86fE6Ek7DROqwAyqTO9ZkyEMYnJBRKkA37rivDgXWP\"\n",
    "\n",
    "auth = tweepy.OAuthHandler(api_key, api_secret)\n",
    "auth.set_access_token(access_token, access_secret)\n",
    "api = tweepy.API(auth, wait_on_rate_limit=True, wait_on_rate_limit_notify=True)\n",
    "if(api.verify_credentials):\n",
    "    print ('Authentication completed successfully!')\n",
    "\n",
    "client = tweepy.Client(\n",
    "    consumer_key=api_key,\n",
    "    consumer_secret=api_secret,\n",
    "    access_token=access_token,\n",
    "    access_token_secret=access_secret,\n",
    "    bearer_token=bearer_token,\n",
    "    wait_on_rate_limit=True,\n",
    "    return_type=dict\n",
    ")\n"
   ],
   "metadata": {
    "collapsed": false,
    "pycharm": {
     "name": "#%%\n"
    }
   }
  },
  {
   "cell_type": "markdown",
   "source": [
    "# GESTIONE JSON"
   ],
   "metadata": {
    "collapsed": false
   }
  },
  {
   "cell_type": "code",
   "execution_count": null,
   "outputs": [],
   "source": [
    "data_folder = \"data_v2\"\n",
    "\n",
    "def serialize_json(folder, filename, data):\n",
    "    if not os.path.exists(folder):\n",
    "        os.makedirs(folder, exist_ok=True)\n",
    "    with open(f\"{folder}/{filename}\", 'w', encoding='utf-8') as f:\n",
    "        json.dump(data, f, ensure_ascii=False, indent=4)\n",
    "        f.close()\n",
    "    print(f\"Data serialized to path: {folder}/{filename}\")\n",
    "\n",
    "def read_json(path):\n",
    "    if os.path.exists(path):\n",
    "        with open(path, \"r\", encoding=\"utf8\") as file:\n",
    "            data = json.load(file)\n",
    "        print(f\"Data read from path: {path}\")\n",
    "        return data\n",
    "    else:\n",
    "        print(f\"No data found at path: {path}\")\n",
    "        return {}\n"
   ],
   "metadata": {
    "collapsed": false,
    "pycharm": {
     "name": "#%%\n"
    }
   }
  },
  {
   "cell_type": "markdown",
   "source": [
    "# FOLLOWERS"
   ],
   "metadata": {
    "collapsed": false
   }
  },
  {
   "cell_type": "code",
   "execution_count": null,
   "outputs": [],
   "source": [
    "def findUsers(utenti,mode):\n",
    "    followers = {}\n",
    "    for utente in utenti:\n",
    "\n",
    "        page_counter = 0\n",
    "        data_for_page=10\n",
    "        data_total=5\n",
    "        next_token = None\n",
    "\n",
    "        response = client.get_users(usernames=utente)\n",
    "\n",
    "        for user in response['data']:\n",
    "\n",
    "            print(f\"Processing user with id {user['id']} and username {user['username']}\")\n",
    "            followers_of_user = []\n",
    "\n",
    "            while (next_token and page_counter<= math.ceil(data_total/data_for_page) or len(followers_of_user)<=0):\n",
    "\n",
    "                if next_token:\n",
    "                    if mode==0:\n",
    "                        response = client.get_users_followers(\n",
    "                            id=user['id'], user_fields=['name', 'description', 'location','followers_count','friends_count','protected'],\n",
    "                            max_results=data_for_page, pagination_token=next_token\n",
    "                        )\n",
    "                    else:\n",
    "                        response = client.get_users_following(\n",
    "                            id=user['id'], user_fields=['name', 'description', 'location','followers_count','friends_count','protected'],\n",
    "                            max_results=data_for_page, pagination_token=next_token\n",
    "                        )\n",
    "                else:\n",
    "                    if mode==0:\n",
    "                        response = client.get_users_followers(\n",
    "                            id=user['id'], user_fields=['name', 'description', 'location','followers_count','friends_count','protected'],\n",
    "                            max_results=data_for_page\n",
    "                        )\n",
    "                    else:\n",
    "                        response = client.get_users_following(\n",
    "                            id=user['id'], user_fields=['name', 'description', 'location','followers_count','friends_count','protected'],\n",
    "                            max_results=data_for_page\n",
    "                        )\n",
    "                next_token = response['meta']['next_token'] if 'next_token' in response['meta'] else None\n",
    "\n",
    "                for data in response['data']:\n",
    "                    if(len(followers_of_user)<data_total and data['followers_count']<1000 and data['friends_count']<1000 and data['protected']==False):\n",
    "                        followers_of_user.append(data)\n",
    "\n",
    "                page_counter=page_counter+1\n",
    "\n",
    "            followers[user] = followers_of_user\n",
    "            #print(f\"Found {len(followers[user])} followers for user {user}\")\n",
    "\n",
    "    serialize_json(data_folder, \"users_followers.json\", followers)\n",
    "    return followers\n",
    "\n",
    "\n",
    "l1_followers=findUsers([\"mizzaro\",\"Miccighel_\"],0) #Followers di mizzaro e Miccighel\n",
    "l1_following=findUsers([\"mizzaro\",\"Miccighel_\"],1) #Following di mizzaro e Miccighel\n",
    "\n",
    "l2a_followers_mizzaro=findUsers(l1_followers[\"mizzaro\"],0) #Followers dei followers di mizzaro\n",
    "l2a_following_mizzaro=findUsers(l1_followers[\"mizzaro\"],1) #Following dei followers di mizzaro\n",
    "\n",
    "l2a_followers_miccighel=findUsers(l1_followers[\"Miccighel_\"],0) #Followers dei followers di Miccighel\n",
    "l2a_following_miccighel=findUsers(l1_followers[\"Miccighel_\"],1) #Following dei followers di Miccighel\n",
    "\n",
    "l2b_followers_mizzaro=findUsers(l1_following[\"mizzaro\"],0) #Followers dei following di mizzaro\n",
    "l2b_following_mizzaro=findUsers(l1_following[\"mizzaro\"],1) #Following dei following di mizzaro\n",
    "\n",
    "l2b_followers_miccighel=findUsers(l1_following[\"Miccighel_\"],0) #Followers dei following di Miccighel\n",
    "l2b_following_miccighel=findUsers(l1_following[\"Miccighel_\"],1) #Following dei following di Miccighel"
   ],
   "metadata": {
    "collapsed": false,
    "pycharm": {
     "name": "#%%\n"
    }
   }
  },
  {
   "cell_type": "code",
   "execution_count": null,
   "outputs": [],
   "source": [
    "followers = read_json(f\"{data_folder}/avengers_followers.json\")\n",
    "# (Pretty) print the first three followers of Iron Man\n",
    "import pprint\n",
    "pp = pprint.PrettyPrinter()\n",
    "pp.pprint(followers['CaptainAmerica'][:3])"
   ],
   "metadata": {
    "collapsed": false,
    "pycharm": {
     "name": "#%%\n"
    }
   }
  },
  {
   "cell_type": "markdown",
   "source": [
    "# ESEMPI"
   ],
   "metadata": {
    "collapsed": false
   }
  },
  {
   "cell_type": "markdown",
   "source": [
    "# 1 - Scaricate i dettagli del profilo di Capitan America"
   ],
   "metadata": {
    "collapsed": false
   }
  },
  {
   "cell_type": "code",
   "execution_count": null,
   "outputs": [],
   "source": [
    "avenger = \"CaptainAmerica\"\n",
    "profile_data = client.get_users(\n",
    "    usernames=avenger,\n",
    "    user_fields=['name', 'description', 'location', 'public_metrics']\n",
    "    )\n",
    "serialize_json(data_folder, \"1_captain_america_profile_data.json\", profile_data)\n",
    "pp.pprint(profile_data)\n"
   ],
   "metadata": {
    "collapsed": false,
    "pycharm": {
     "name": "#%%\n"
    }
   }
  },
  {
   "cell_type": "markdown",
   "source": [
    "# 2 - Scaricate gli ultimi 15 tweet di Captain America"
   ],
   "metadata": {
    "collapsed": false
   }
  },
  {
   "cell_type": "code",
   "execution_count": null,
   "outputs": [],
   "source": [
    "avenger_id = 701615052\n",
    "page_counter = 0\n",
    "data_for_page=10\n",
    "data_total=15\n",
    "next_token = None\n",
    "tweets = []\n",
    "\n",
    "while (next_token and page_counter<= math.ceil(data_total/data_for_page) or len(tweets)<=0):\n",
    "    if next_token:\n",
    "        response = client.get_users_tweets(\n",
    "            id=avenger_id, tweet_fields=['created_at', 'lang', 'public_metrics'],\n",
    "            max_results=data_for_page, pagination_token=next_token\n",
    "        )\n",
    "    else:\n",
    "        response = client.get_users_tweets(\n",
    "            id=avenger_id, tweet_fields=['created_at', 'lang', 'public_metrics'],\n",
    "            max_results=data_for_page\n",
    "        )\n",
    "    next_token = response['meta']['next_token'] if 'next_token' in response['meta'] else None\n",
    "    for data in response['data']:\n",
    "        if(len(tweets)<data_total):\n",
    "            tweets.append(data)\n",
    "    page_counter=page_counter+1\n",
    "pp.pprint(tweets)\n",
    "serialize_json(data_folder, \"2_captain_america_recent_tweets.json\", tweets)\n"
   ],
   "metadata": {
    "collapsed": false,
    "pycharm": {
     "name": "#%%\n"
    }
   }
  },
  {
   "cell_type": "markdown",
   "source": [
    "# 3 - Scaricate 20 tweet preferiti da Iron Man"
   ],
   "metadata": {
    "collapsed": false
   }
  },
  {
   "cell_type": "code",
   "execution_count": null,
   "outputs": [],
   "source": [
    "avenger = \"Iron_Man\"\n",
    "raw_favorites = api.favorites(\n",
    "    screen_name=avenger,\n",
    "    tweet_mode=\"extended\"\n",
    ")\n",
    "tweets = []\n",
    "for raw_tweet in raw_favorites:\n",
    "    json_tweet = raw_tweet._json\n",
    "    tweet = {}\n",
    "    tweet[\"id\"]= json_tweet[\"id\"]\n",
    "    tweet[\"created_at\"] = json_tweet[\"created_at\"]\n",
    "    tweet[\"full_text\"] = json_tweet[\"full_text\"],\n",
    "    tweet[\"favorite_count\"]= json_tweet[\"favorite_count\"]\n",
    "    tweets.append(tweet)\n",
    "serialize_json(data_folder, \"3_iron_man_favorite_tweets.json\", tweets)\n",
    "pp.pprint(tweets)\n"
   ],
   "metadata": {
    "collapsed": false,
    "pycharm": {
     "name": "#%%\n"
    }
   }
  },
  {
   "cell_type": "code",
   "execution_count": null,
   "outputs": [],
   "source": [
    "import requests\n",
    "\n",
    "response = requests.get(\"https://api.github.com/events\")\n",
    "# Print just the first event\n",
    "pp.pprint(response.json()[0])\n",
    "response = requests.post(\"http://httpbin.org/post\")\n",
    "response = requests.put(\"http://httpbin.org/put\")\n",
    "response = requests.delete(\"http://httpbin.org/delete\")"
   ],
   "metadata": {
    "collapsed": false,
    "pycharm": {
     "name": "#%%\n"
    }
   }
  },
  {
   "cell_type": "code",
   "execution_count": null,
   "outputs": [],
   "source": [
    "endpoint_url = \"https://api.twitter.com/2/users/by\"\n",
    "headers = {\n",
    "    'authorization': f\"Bearer {bearer_token}\"\n",
    "}\n",
    "params = {\n",
    "    'usernames': 'CaptainAmerica',\n",
    "    'user.fields': 'description,created_at,location'\n",
    "}\n",
    "response = requests.get(endpoint_url, headers=headers, params=params)\n",
    "pp.pprint(response.json())\n"
   ],
   "metadata": {
    "collapsed": false,
    "pycharm": {
     "name": "#%%\n"
    }
   }
  }
 ],
 "metadata": {
  "kernelspec": {
   "display_name": "Python 3",
   "language": "python",
   "name": "python3"
  },
  "language_info": {
   "codemirror_mode": {
    "name": "ipython",
    "version": 2
   },
   "file_extension": ".py",
   "mimetype": "text/x-python",
   "name": "python",
   "nbconvert_exporter": "python",
   "pygments_lexer": "ipython2",
   "version": "2.7.6"
  }
 },
 "nbformat": 4,
 "nbformat_minor": 0
}