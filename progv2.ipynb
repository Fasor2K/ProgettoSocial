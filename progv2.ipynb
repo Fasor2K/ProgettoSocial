{
 "cells": [
  {
   "cell_type": "code",
   "execution_count": null,
   "metadata": {
    "collapsed": true
   },
   "outputs": [],
   "source": []
  },
  {
   "cell_type": "markdown",
   "source": [
    "# IMPORT ED AUTENTICAZIONE"
   ],
   "metadata": {
    "collapsed": false
   }
  },
  {
   "cell_type": "code",
   "execution_count": null,
   "outputs": [],
   "source": [
    "import os\n",
    "import json\n",
    "import tweepy\n",
    "import math\n",
    "import pprint as pp"
   ],
   "metadata": {
    "collapsed": false,
    "pycharm": {
     "name": "#%%\n"
    }
   }
  },
  {
   "cell_type": "code",
   "execution_count": null,
   "outputs": [],
   "source": [
    "#Twitter API credentials\n",
    "api_key = \"\"\n",
    "api_secret = \"\"\n",
    "access_token = \"\"\n",
    "access_secret = \"\"\n",
    "bearer_token = \"\"\n",
    "\n",
    "client = tweepy.Client(\n",
    "    consumer_key=api_key,\n",
    "    consumer_secret=api_secret,\n",
    "    access_token=access_token,\n",
    "    access_token_secret=access_secret,\n",
    "    bearer_token=bearer_token,\n",
    "    wait_on_rate_limit=True,\n",
    "    return_type=dict\n",
    ")\n"
   ],
   "metadata": {
    "collapsed": false,
    "pycharm": {
     "name": "#%%\n"
    }
   }
  },
  {
   "cell_type": "markdown",
   "source": [
    "# GESTIONE JSON"
   ],
   "metadata": {
    "collapsed": false
   }
  },
  {
   "cell_type": "code",
   "execution_count": null,
   "outputs": [],
   "source": [
    "data_folder = \"data_v2\"\n",
    "\n",
    "def serialize_json(folder, filename, data):\n",
    "    if not os.path.exists(folder):\n",
    "        os.makedirs(folder, exist_ok=True)\n",
    "    with open(f\"{folder}/{filename}\", 'w', encoding='utf-8') as f:\n",
    "        json.dump(data, f, ensure_ascii=False, indent=4)\n",
    "        f.close()\n",
    "    print(f\"Data serialized to path: {folder}/{filename}\")\n",
    "\n",
    "def read_json(path):\n",
    "    if os.path.exists(path):\n",
    "        with open(path, \"r\", encoding=\"utf8\") as file:\n",
    "            data = json.load(file)\n",
    "        print(f\"Data read from path: {path}\")\n",
    "        return data\n",
    "    else:\n",
    "        print(f\"No data found at path: {path}\")\n",
    "        return {}\n"
   ],
   "metadata": {
    "collapsed": false,
    "pycharm": {
     "name": "#%%\n"
    }
   }
  },
  {
   "cell_type": "markdown",
   "source": [
    "# FOLLOWERS"
   ],
   "metadata": {
    "collapsed": false
   }
  },
  {
   "cell_type": "code",
   "execution_count": null,
   "outputs": [],
   "source": [
    "utenti = [\"Iron_Man\", \"CaptainAmerica\", \"Hulk\", \"thorofficial\"]\n",
    "followers = {}\n",
    "\n",
    "for utente in utenti:\n",
    "\n",
    "    page_counter = 0\n",
    "    data_for_page=10\n",
    "    data_total=19\n",
    "    next_token = None\n",
    "\n",
    "    response = client.get_users(usernames=utente)\n",
    "\n",
    "    for user in response['data']:\n",
    "\n",
    "        print(f\"Processing user with id {user['id']} and username {user['username']}\")\n",
    "        followers_of_user = []\n",
    "\n",
    "        while (next_token and page_counter<= math.ceil(data_total/data_for_page) or len(followers_of_user)<=0):\n",
    "\n",
    "            if next_token:\n",
    "                response = client.get_users_followers(\n",
    "                    id=user['id'], user_fields=['name', 'description', 'location','followers_count','friends_count','protected'],\n",
    "                    max_results=data_for_page, pagination_token=next_token\n",
    "                )\n",
    "            else:\n",
    "                response = client.get_users_followers(\n",
    "                    id=user['id'], user_fields=['name', 'description', 'location','followers_count','friends_count','protected'],\n",
    "                    max_results=data_for_page\n",
    "                )\n",
    "            next_token = response['meta']['next_token'] if 'next_token' in response['meta'] else None\n",
    "\n",
    "            for data in response['data']:\n",
    "                if(len(followers_of_user)<data_total):\n",
    "                    followers_of_user.append(data)\n",
    "\n",
    "            page_counter=page_counter+1\n",
    "\n",
    "        followers[user] = followers_of_user\n",
    "        print(f\"Found {len(followers[user])} followers for user {user}\")\n",
    "\n",
    "serialize_json(data_folder, \"users_followers.json\", followers)\n"
   ],
   "metadata": {
    "collapsed": false,
    "pycharm": {
     "name": "#%%\n"
    }
   }
  },
  {
   "cell_type": "code",
   "execution_count": null,
   "outputs": [],
   "source": [
    "followers = read_json(f\"{data_folder}/avengers_followers.json\")\n",
    "# (Pretty) print the first three followers of Iron Man\n",
    "import pprint\n",
    "pp = pprint.PrettyPrinter()\n",
    "pp.pprint(followers['CaptainAmerica'][:3])"
   ],
   "metadata": {
    "collapsed": false,
    "pycharm": {
     "name": "#%%\n"
    }
   }
  },
  {
   "cell_type": "markdown",
   "source": [
    "# ESEMPI"
   ],
   "metadata": {
    "collapsed": false
   }
  },
  {
   "cell_type": "markdown",
   "source": [
    "# 1 - Scaricate i dettagli del profilo di Capitan America"
   ],
   "metadata": {
    "collapsed": false
   }
  },
  {
   "cell_type": "code",
   "execution_count": null,
   "outputs": [],
   "source": [
    "avenger = \"CaptainAmerica\"\n",
    "profile_data = client.get_users(\n",
    "    usernames=avenger,\n",
    "    user_fields=['name', 'description', 'location', 'public_metrics']\n",
    "    )\n",
    "serialize_json(data_folder, \"1_captain_america_profile_data.json\", profile_data)\n",
    "pp.pprint(profile_data)\n"
   ],
   "metadata": {
    "collapsed": false,
    "pycharm": {
     "name": "#%%\n"
    }
   }
  },
  {
   "cell_type": "markdown",
   "source": [
    "# 2 - Scaricate gli ultimi 15 tweet di Captain America"
   ],
   "metadata": {
    "collapsed": false
   }
  },
  {
   "cell_type": "code",
   "execution_count": null,
   "outputs": [],
   "source": [
    "avenger_id = 701615052\n",
    "page_counter = 0\n",
    "data_for_page=10\n",
    "data_total=15\n",
    "next_token = None\n",
    "tweets = []\n",
    "\n",
    "while (next_token and page_counter<= math.ceil(data_total/data_for_page) or len(tweets)<=0):\n",
    "    if next_token:\n",
    "        response = client.get_users_tweets(\n",
    "            id=avenger_id, tweet_fields=['created_at', 'lang', 'public_metrics'],\n",
    "            max_results=data_for_page, pagination_token=next_token\n",
    "        )\n",
    "    else:\n",
    "        response = client.get_users_tweets(\n",
    "            id=avenger_id, tweet_fields=['created_at', 'lang', 'public_metrics'],\n",
    "            max_results=data_for_page\n",
    "        )\n",
    "    next_token = response['meta']['next_token'] if 'next_token' in response['meta'] else None\n",
    "    for data in response['data']:\n",
    "        if(len(tweets)<data_total):\n",
    "            tweets.append(data)\n",
    "    page_counter=page_counter+1\n",
    "pp.pprint(tweets)\n",
    "serialize_json(data_folder, \"2_captain_america_recent_tweets.json\", tweets)\n"
   ],
   "metadata": {
    "collapsed": false,
    "pycharm": {
     "name": "#%%\n"
    }
   }
  },
  {
   "cell_type": "markdown",
   "source": [
    "# 3 - Scaricate 20 tweet preferiti da Iron Man"
   ],
   "metadata": {
    "collapsed": false
   }
  },
  {
   "cell_type": "code",
   "execution_count": null,
   "outputs": [],
   "source": [
    "avenger = \"Iron_Man\"\n",
    "raw_favorites = api.favorites(\n",
    "    screen_name=avenger,\n",
    "    tweet_mode=\"extended\"\n",
    ")\n",
    "tweets = []\n",
    "for raw_tweet in raw_favorites:\n",
    "    json_tweet = raw_tweet._json\n",
    "    tweet = {}\n",
    "    tweet[\"id\"]= json_tweet[\"id\"]\n",
    "    tweet[\"created_at\"] = json_tweet[\"created_at\"]\n",
    "    tweet[\"full_text\"] = json_tweet[\"full_text\"],\n",
    "    tweet[\"favorite_count\"]= json_tweet[\"favorite_count\"]\n",
    "    tweets.append(tweet)\n",
    "serialize_json(data_folder, \"3_iron_man_favorite_tweets.json\", tweets)\n",
    "pp.pprint(tweets)\n"
   ],
   "metadata": {
    "collapsed": false,
    "pycharm": {
     "name": "#%%\n"
    }
   }
  },
  {
   "cell_type": "code",
   "execution_count": null,
   "outputs": [],
   "source": [
    "import requests\n",
    "\n",
    "response = requests.get(\"https://api.github.com/events\")\n",
    "# Print just the first event\n",
    "pp.pprint(response.json()[0])\n",
    "response = requests.post(\"http://httpbin.org/post\")\n",
    "response = requests.put(\"http://httpbin.org/put\")\n",
    "response = requests.delete(\"http://httpbin.org/delete\")"
   ],
   "metadata": {
    "collapsed": false,
    "pycharm": {
     "name": "#%%\n"
    }
   }
  },
  {
   "cell_type": "code",
   "execution_count": null,
   "outputs": [],
   "source": [
    "endpoint_url = \"https://api.twitter.com/2/users/by\"\n",
    "headers = {\n",
    "    'authorization': f\"Bearer {bearer_token}\"\n",
    "}\n",
    "params = {\n",
    "    'usernames': 'CaptainAmerica',\n",
    "    'user.fields': 'description,created_at,location'\n",
    "}\n",
    "response = requests.get(endpoint_url, headers=headers, params=params)\n",
    "pp.pprint(response.json())\n"
   ],
   "metadata": {
    "collapsed": false,
    "pycharm": {
     "name": "#%%\n"
    }
   }
  }
 ],
 "metadata": {
  "kernelspec": {
   "display_name": "Python 3",
   "language": "python",
   "name": "python3"
  },
  "language_info": {
   "codemirror_mode": {
    "name": "ipython",
    "version": 2
   },
   "file_extension": ".py",
   "mimetype": "text/x-python",
   "name": "python",
   "nbconvert_exporter": "python",
   "pygments_lexer": "ipython2",
   "version": "2.7.6"
  }
 },
 "nbformat": 4,
 "nbformat_minor": 0
}