{
 "cells": [
  {
   "cell_type": "code",
   "execution_count": null,
   "metadata": {
    "collapsed": true
   },
   "outputs": [],
   "source": []
  },
  {
   "cell_type": "markdown",
   "source": [
    "# IMPORT ED AUTENTICAZIONE"
   ],
   "metadata": {
    "collapsed": false
   }
  },
  {
   "cell_type": "code",
   "execution_count": 5,
   "outputs": [],
   "source": [
    "import os\n",
    "import json\n",
    "import tweepy\n",
    "import math\n",
    "import pprint as pp\n",
    "import networkx as nx\n",
    "import pandas as pd\n",
    "import numpy as np\n",
    "import glob"
   ],
   "metadata": {
    "collapsed": false,
    "pycharm": {
     "name": "#%%\n"
    }
   }
  },
  {
   "cell_type": "code",
   "execution_count": 6,
   "outputs": [
    {
     "name": "stdout",
     "output_type": "stream",
     "text": [
      "Authentication completed successfully!\n"
     ]
    }
   ],
   "source": [
    "#Twitter API credentials\n",
    "api_key = \"M5NYCCuMTxLKm4S6DrsK5NqpR\"\n",
    "api_secret = \"y3svwwgghPa9l0ieZReuFzuOPlkX92BrW4qfn4kwXAFoWffHzR\"\n",
    "access_token = \"951194016212807680-RX1wBOiNZxau9k7nHyOvJk1mXNtyOp6\"\n",
    "access_secret = \"Dt5x1PnX7jhsZvUCQq8gqlN0HDMjqVyxN8yb0To57uQEq\"\n",
    "bearer_token = \"AAAAAAAAAAAAAAAAAAAAAAa9VwEAAAAAs09Lb1bMGnB4QMwrjBNd9J7NaXQ%3DOki3q56qHVQ2uESPZGHvRO8tFJg7rOPEAjpDcaKCRxVgfh8ulq\"\n",
    "\n",
    "auth = tweepy.OAuthHandler(api_key, api_secret)\n",
    "auth.set_access_token(access_token, access_secret)\n",
    "api = tweepy.API(auth, wait_on_rate_limit=True)\n",
    "if(api.verify_credentials):\n",
    "    print ('Authentication completed successfully!')\n",
    "\n",
    "client = tweepy.Client(\n",
    "    consumer_key=api_key,\n",
    "    consumer_secret=api_secret,\n",
    "    access_token=access_token,\n",
    "    access_token_secret=access_secret,\n",
    "    bearer_token=bearer_token,\n",
    "    wait_on_rate_limit=True,\n",
    "    return_type=dict\n",
    ")\n"
   ],
   "metadata": {
    "collapsed": false,
    "pycharm": {
     "name": "#%%\n"
    }
   }
  },
  {
   "cell_type": "markdown",
   "source": [
    "# GESTIONE JSON"
   ],
   "metadata": {
    "collapsed": false
   }
  },
  {
   "cell_type": "code",
   "execution_count": 3,
   "outputs": [],
   "source": [
    "data_folder = \"data_v2\"\n",
    "\n",
    "def serialize_json(folder, filename, data):\n",
    "    if not os.path.exists(folder):\n",
    "        os.makedirs(folder, exist_ok=True)\n",
    "    with open(f\"{folder}/{filename}\", 'w', encoding='utf-8') as f:\n",
    "        json.dump(data, f, ensure_ascii=False, indent=4)\n",
    "        f.close()\n",
    "    print(f\"Data serialized to path: {folder}/{filename}\")\n",
    "\n",
    "def read_json(path):\n",
    "    if os.path.exists(path):\n",
    "        with open(path, \"r\", encoding=\"utf8\") as file:\n",
    "            data = json.load(file)\n",
    "        print(f\"Data read from path: {path}\")\n",
    "        return data\n",
    "    else:\n",
    "        print(f\"No data found at path: {path}\")\n",
    "        return {}\n"
   ],
   "metadata": {
    "collapsed": false,
    "pycharm": {
     "name": "#%%\n"
    }
   }
  },
  {
   "cell_type": "markdown",
   "source": [
    "# FOLLOWERS"
   ],
   "metadata": {
    "collapsed": false
   }
  },
  {
   "cell_type": "code",
   "execution_count": 4,
   "outputs": [
    {
     "name": "stdout",
     "output_type": "stream",
     "text": [
      "Processing user mizzaro\n"
     ]
    },
    {
     "ename": "AttributeError",
     "evalue": "'API' object has no attribute 'followers'",
     "output_type": "error",
     "traceback": [
      "\u001B[1;31m---------------------------------------------------------------------------\u001B[0m",
      "\u001B[1;31mAttributeError\u001B[0m                            Traceback (most recent call last)",
      "\u001B[1;32m~\\AppData\\Local\\Temp/ipykernel_2540/297530501.py\u001B[0m in \u001B[0;36m<module>\u001B[1;34m\u001B[0m\n\u001B[0;32m    119\u001B[0m \u001B[1;31m#l2b_following_miccighel=findUsers(l1_following[\"Miccighel_\"],1) #Following dei following di Miccighel\u001B[0m\u001B[1;33m\u001B[0m\u001B[1;33m\u001B[0m\u001B[1;33m\u001B[0m\u001B[0m\n\u001B[0;32m    120\u001B[0m \u001B[1;33m\u001B[0m\u001B[0m\n\u001B[1;32m--> 121\u001B[1;33m \u001B[0ml1_followers\u001B[0m\u001B[1;33m=\u001B[0m\u001B[0mfindUsers\u001B[0m\u001B[1;33m(\u001B[0m\u001B[1;33m[\u001B[0m\u001B[1;34m\"mizzaro\"\u001B[0m\u001B[1;33m,\u001B[0m\u001B[1;34m\"Miccighel_\"\u001B[0m\u001B[1;33m]\u001B[0m\u001B[1;33m,\u001B[0m\u001B[1;36m0\u001B[0m\u001B[1;33m)\u001B[0m\u001B[1;33m\u001B[0m\u001B[1;33m\u001B[0m\u001B[0m\n\u001B[0m\u001B[0;32m    122\u001B[0m \u001B[0ml1_following\u001B[0m\u001B[1;33m=\u001B[0m\u001B[0mfindUsers\u001B[0m\u001B[1;33m(\u001B[0m\u001B[1;33m[\u001B[0m\u001B[1;34m\"mizzaro\"\u001B[0m\u001B[1;33m,\u001B[0m\u001B[1;34m\"Miccighel_\"\u001B[0m\u001B[1;33m]\u001B[0m\u001B[1;33m,\u001B[0m\u001B[1;36m1\u001B[0m\u001B[1;33m)\u001B[0m\u001B[1;33m\u001B[0m\u001B[1;33m\u001B[0m\u001B[0m\n\u001B[0;32m    123\u001B[0m \u001B[1;33m\u001B[0m\u001B[0m\n",
      "\u001B[1;32m~\\AppData\\Local\\Temp/ipykernel_2540/297530501.py\u001B[0m in \u001B[0;36mfindUsers\u001B[1;34m(userlist, mode)\u001B[0m\n\u001B[0;32m     11\u001B[0m \u001B[1;33m\u001B[0m\u001B[0m\n\u001B[0;32m     12\u001B[0m         \u001B[1;32mif\u001B[0m \u001B[0mmode\u001B[0m\u001B[1;33m==\u001B[0m\u001B[1;36m0\u001B[0m\u001B[1;33m:\u001B[0m\u001B[1;33m\u001B[0m\u001B[1;33m\u001B[0m\u001B[0m\n\u001B[1;32m---> 13\u001B[1;33m             \u001B[0musergroup\u001B[0m\u001B[1;33m=\u001B[0m\u001B[0mtweepy\u001B[0m\u001B[1;33m.\u001B[0m\u001B[0mCursor\u001B[0m\u001B[1;33m(\u001B[0m\u001B[0mapi\u001B[0m\u001B[1;33m.\u001B[0m\u001B[0mfollowers\u001B[0m\u001B[1;33m,\u001B[0m\u001B[0mscreen_name\u001B[0m \u001B[1;33m=\u001B[0m \u001B[0muser\u001B[0m \u001B[1;33m)\u001B[0m\u001B[1;33m.\u001B[0m\u001B[0mitems\u001B[0m\u001B[1;33m(\u001B[0m\u001B[0mquantity\u001B[0m\u001B[1;33m)\u001B[0m\u001B[1;33m\u001B[0m\u001B[1;33m\u001B[0m\u001B[0m\n\u001B[0m\u001B[0;32m     14\u001B[0m         \u001B[1;32melse\u001B[0m\u001B[1;33m:\u001B[0m\u001B[1;33m\u001B[0m\u001B[1;33m\u001B[0m\u001B[0m\n\u001B[0;32m     15\u001B[0m             \u001B[0musergroup\u001B[0m\u001B[1;33m=\u001B[0m\u001B[0mtweepy\u001B[0m\u001B[1;33m.\u001B[0m\u001B[0mCursor\u001B[0m\u001B[1;33m(\u001B[0m\u001B[0mapi\u001B[0m\u001B[1;33m.\u001B[0m\u001B[0mfriends\u001B[0m\u001B[1;33m,\u001B[0m\u001B[0mscreen_name\u001B[0m \u001B[1;33m=\u001B[0m \u001B[0muser\u001B[0m \u001B[1;33m)\u001B[0m\u001B[1;33m.\u001B[0m\u001B[0mitems\u001B[0m\u001B[1;33m(\u001B[0m\u001B[0mquantity\u001B[0m\u001B[1;33m)\u001B[0m\u001B[1;33m\u001B[0m\u001B[1;33m\u001B[0m\u001B[0m\n",
      "\u001B[1;31mAttributeError\u001B[0m: 'API' object has no attribute 'followers'"
     ]
    }
   ],
   "source": [
    "def findUsers(userlist,mode): #mode: 0 = followers, 1 = following\n",
    "    quantity=20\n",
    "    foundlist={}\n",
    "    l2list = {}\n",
    "\n",
    "    for user in userlist:\n",
    "        print(f\"Processing user {user}\")\n",
    "\n",
    "        found = []\n",
    "        l2list[user]=[]\n",
    "\n",
    "        if mode==0:\n",
    "            usergroup=tweepy.Cursor(api.followers,screen_name = user ).items(quantity)\n",
    "        else:\n",
    "            usergroup=tweepy.Cursor(api.friends,screen_name = user ).items(quantity)\n",
    "\n",
    "        for item in usergroup:\n",
    "\n",
    "            json_data = item._json\n",
    "\n",
    "            found_user = {}\n",
    "            found_user[\"id\"] = json_data[\"id\"]\n",
    "            found_user[\"name\"] = json_data[\"name\"]\n",
    "            found_user[\"screen_name\"] = json_data[\"screen_name\"]\n",
    "            found_user[\"location\"] = json_data[\"location\"]\n",
    "            found_user[\"followers_count\"] = json_data[\"followers_count\"]\n",
    "            found_user[\"friends_count\"] = json_data[\"friends_count\"]\n",
    "            found_user[\"protected\"] = json_data[\"protected\"]\n",
    "\n",
    "\n",
    "            if item.friends_count < 1000 and item.followers_count<1000 and json_data[\"protected\"] == False and (found_user not in found):\n",
    "                found.append(found_user)\n",
    "                l2list[user].append(item.screen_name)\n",
    "                print(item.screen_name)\n",
    "\n",
    "            if len(found) >= 5:\n",
    "                break\n",
    "\n",
    "        foundlist[user] = found\n",
    "\n",
    "        if mode==0:\n",
    "            serialize_json(data_folder, user+\"_followers.json\", foundlist)\n",
    "        else:\n",
    "            serialize_json(data_folder, user+\"_following.json\", foundlist)\n",
    "\n",
    "    return l2list\n",
    "\n",
    "\n",
    "def findUsersV2(utenti,mode):\n",
    "    followers = {}\n",
    "    for utente in utenti:\n",
    "\n",
    "        page_counter = 0\n",
    "        data_for_page=10\n",
    "        data_total=5\n",
    "        next_token = None\n",
    "\n",
    "        response = client.get_users(ids=utente)\n",
    "\n",
    "        for user in response['data']:\n",
    "\n",
    "            print(f\"Processing user with id {user['id']} and username {user['username']}\")\n",
    "            followers_of_user = []\n",
    "\n",
    "            while (next_token and page_counter<= math.ceil(data_total/data_for_page) or len(followers_of_user)<=0):\n",
    "\n",
    "                if next_token:\n",
    "                    if mode==0:\n",
    "                        response = client.get_users_followers(\n",
    "                            id=user['id'], user_fields=['name', 'description', 'location','public_metrics','protected'],\n",
    "                            max_results=data_for_page, pagination_token=next_token\n",
    "                        )\n",
    "                    else:\n",
    "                        response = client.get_users_following(\n",
    "                            id=user['id'], user_fields=['name', 'description', 'location','public_metrics','protected'],\n",
    "                            max_results=data_for_page, pagination_token=next_token\n",
    "                        )\n",
    "                else:\n",
    "                    if mode==0:\n",
    "                        response = client.get_users_followers(\n",
    "                            id=user['id'], user_fields=['name', 'description', 'location','public_metrics','protected'],\n",
    "                            max_results=data_for_page\n",
    "                        )\n",
    "                    else:\n",
    "                        response = client.get_users_following(\n",
    "                            id=user['id'], user_fields=['name', 'description', 'location','public_metrics','protected'],\n",
    "                            max_results=data_for_page\n",
    "                        )\n",
    "                next_token = response['meta']['next_token'] if 'next_token' in response['meta'] else None\n",
    "\n",
    "                for data in response['data']:\n",
    "                    if(len(followers_of_user)<data_total and data['public_metrics']['followers_count']<1000 and data['public_metrics']['following_count']<1000 and data['protected']==False):\n",
    "                        followers_of_user.append(data['id'])\n",
    "\n",
    "                page_counter=page_counter+1\n",
    "\n",
    "            followers[user['name']] = followers_of_user\n",
    "            serialize_json(data_folder, user['name']+\"_followers.json\", followers)\n",
    "            #print(f\"Found {len(followers[user])} followers for user {user}\")\n",
    "\n",
    "    return followers\n",
    "\n",
    "#miccighel_id=\"15750573\"\n",
    "#mizzaro_id=\"18932422\"\n",
    "\n",
    "#l1_followers=findUsers([mizzaro_id,miccighel_id],0) #Followers di mizzaro e Miccighel\n",
    "#l1_following=findUsers([mizzaro_id,miccighel_id],1) #Following di mizzaro e Miccighel\n",
    "\n",
    "#l2a_followers_mizzaro=findUsers(l1_followers[\"mizzaro\"],0) #Followers dei followers di mizzaro\n",
    "#l2a_following_mizzaro=findUsers(l1_followers[\"mizzaro\"],1) #Following dei followers di mizzaro\n",
    "\n",
    "#l2a_followers_miccighel=findUsers(l1_followers[\"Miccighel_\"],0) #Followers dei followers di Miccighel\n",
    "#l2a_following_miccighel=findUsers(l1_followers[\"Miccighel_\"],1) #Following dei followers di Miccighel\n",
    "\n",
    "#l2b_followers_mizzaro=findUsers(l1_following[\"mizzaro\"],0) #Followers dei following di mizzaro\n",
    "#l2b_following_mizzaro=findUsers(l1_following[\"mizzaro\"],1) #Following dei following di mizzaro\n",
    "\n",
    "#l2b_followers_miccighel=findUsers(l1_following[\"Miccighel_\"],0) #Followers dei following di Miccighel\n",
    "#l2b_following_miccighel=findUsers(l1_following[\"Miccighel_\"],1) #Following dei following di Miccighel\n",
    "\n",
    "#l1_followers=findUsers([\"mizzaro\",\"Miccighel_\"],0)\n",
    "l1_following=findUsers([\"mizzaro\",\"Miccighel_\"],1)\n",
    "\n",
    "#l2a_followers_mizzaro=findUsers(l1_followers[\"mizzaro\"],0)\n",
    "#l2a_following_mizzaro=findUsers(l1_followers[\"mizzaro\"],1)\n",
    "\n",
    "#l2a_followers_miccighel=findUsers(l1_followers[\"Miccighel_\"],0)\n",
    "#l2a_following_miccighel=findUsers(l1_followers[\"Miccighel_\"],1)\n",
    "\n",
    "l2b_followers_mizzaro=findUsers(l1_following[\"mizzaro\"],0)\n",
    "l2b_following_mizzaro=findUsers(l1_following[\"mizzaro\"],1)\n",
    "\n",
    "l2b_followers_miccighel=findUsers(l1_following[\"Miccighel_\"],0)\n",
    "l2b_following_miccighel=findUsers(l1_following[\"Miccighel_\"],1)\n",
    "\n",
    "fileList=glob.glob(data_folder+\"/*.json\")\n",
    "\n",
    "totalData=[]\n",
    "\n",
    "for fileName in fileList:\n",
    "    with open(fileName,'r',encoding=\"UTF-8\") as file:\n",
    "        data=json.load(file)\n",
    "        totalData.append(data)\n",
    "\n",
    "serialize_json(data_folder, \"total_users.json\", totalData)\n",
    "\n",
    "#with open(data_folder+\"/total_users.json\",\"w\") as outfile:\n",
    "#    json.dump(totalData,outfile)"
   ],
   "metadata": {
    "collapsed": false,
    "pycharm": {
     "name": "#%%\n"
    }
   }
  },
  {
   "cell_type": "markdown",
   "source": [
    "# 1 - Scaricate i dettagli del profilo dei followers di primo e secondo livello"
   ],
   "metadata": {
    "collapsed": false
   }
  },
  {
   "cell_type": "code",
   "execution_count": null,
   "outputs": [],
   "source": [
    "def getUserDetails(users):\n",
    "    for user in users:\n",
    "       profile_data = client.get_users(\n",
    "            usernames=user,\n",
    "            user_fields=['name', 'description', 'location', 'public_metrics']\n",
    "            )\n",
    "       serialize_json(data_folder, user[\"username\"]+\"_profile_data.json\", profile_data)\n",
    "       pp.pprint(profile_data)\n",
    "\n",
    "\n",
    "#CHIAMARE FUNZIONE"
   ],
   "metadata": {
    "collapsed": false,
    "pycharm": {
     "name": "#%%\n"
    }
   }
  },
  {
   "cell_type": "markdown",
   "source": [
    "# 2 - Scaricate gli ultimi 5 tweet di followers di primo e secondo livello"
   ],
   "metadata": {
    "collapsed": false
   }
  },
  {
   "cell_type": "code",
   "execution_count": null,
   "outputs": [],
   "source": [
    "def getUserTweets(users):\n",
    "\n",
    "    page_counter = 0\n",
    "    data_for_page=10\n",
    "    data_total=5\n",
    "    for user in users:\n",
    "        next_token = None\n",
    "        tweets = []\n",
    "        userid=user['id']\n",
    "\n",
    "        while (next_token and page_counter<= math.ceil(data_total/data_for_page) or len(tweets)<=0):\n",
    "            if next_token:\n",
    "                response = client.get_users_tweets(\n",
    "                    id=userid, tweet_fields=['created_at', 'lang', 'public_metrics'],\n",
    "                    max_results=data_for_page, pagination_token=next_token\n",
    "                )\n",
    "            else:\n",
    "                response = client.get_users_tweets(\n",
    "                    id=userid, tweet_fields=['created_at', 'lang', 'public_metrics'],\n",
    "                    max_results=data_for_page\n",
    "                )\n",
    "            next_token = response['meta']['next_token'] if 'next_token' in response['meta'] else None\n",
    "            for data in response['data']:\n",
    "                if(len(tweets)<data_total):\n",
    "                    tweets.append(data)\n",
    "            page_counter=page_counter+1\n",
    "        pp.pprint(tweets)\n",
    "        serialize_json(data_folder, user[\"username\"]+\"_recent_tweets.json\", tweets)\n",
    "\n"
   ],
   "metadata": {
    "collapsed": false,
    "pycharm": {
     "name": "#%%\n"
    }
   }
  }
 ],
 "metadata": {
  "kernelspec": {
   "display_name": "Python 3",
   "language": "python",
   "name": "python3"
  },
  "language_info": {
   "codemirror_mode": {
    "name": "ipython",
    "version": 2
   },
   "file_extension": ".py",
   "mimetype": "text/x-python",
   "name": "python",
   "nbconvert_exporter": "python",
   "pygments_lexer": "ipython2",
   "version": "2.7.6"
  }
 },
 "nbformat": 4,
 "nbformat_minor": 0
}