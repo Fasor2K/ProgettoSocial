{
 "cells": [
  {
   "cell_type": "markdown",
   "metadata": {},
   "source": [
    "# IMPORT ED AUTENTICAZIONE"
   ]
  },
  {
   "cell_type": "code",
   "execution_count": 19,
   "metadata": {},
   "outputs": [],
   "source": [
    "import os \n",
    "import json\n",
    "import pprint\n",
    "import tweepy"
   ]
  },
  {
   "cell_type": "code",
   "execution_count": 20,
   "metadata": {},
   "outputs": [],
   "source": [
    "#Twitter API credentials\n",
    "api_key = \"VlNL2LO3nPv8sN7HoTwiHPWRJ\"\n",
    "api_secret = \"0x66wQ6hJrEF0sRsDDBk5F84GPdZrW7ofrLAHG9d4VOKpuNDU8\"\n",
    "access_token = \"4878912292-yHYq0PzMFAzOgHmQ5CQG0Ls7tiqGOIcV7jKOxzu\"\n",
    "access_secret = \"9uJKXlMqXrRtn9TxqtAL2SBv8fLGVZH4bu6IcHhKCDbMt\"\n",
    "bearer_token = \"AAAAAAAAAAAAAAAAAAAAAA2xVwEAAAAAWWRrvmkGwNuTP%2FMltp7z1%2F1Wh5A%3DuCQUQaeBJ9EEmLrOPUGoDZ4bI6s1fEzguiNNOyceGGFjhKmFPn\""
   ]
  },
  {
   "cell_type": "code",
   "execution_count": 21,
   "metadata": {},
   "outputs": [
    {
     "name": "stdout",
     "output_type": "stream",
     "text": [
      "Authentication completed successfully!\n"
     ]
    }
   ],
   "source": [
    "auth = tweepy.OAuthHandler(api_key, api_secret)\n",
    "auth.set_access_token(access_token, access_secret)\n",
    "api = tweepy.API(auth, wait_on_rate_limit=True, wait_on_rate_limit_notify=True)\n",
    "if(api.verify_credentials):\n",
    "    print ('Authentication completed successfully!')"
   ]
  },
  {
   "cell_type": "markdown",
   "metadata": {},
   "source": [
    "# GESTIONE JSON"
   ]
  },
  {
   "cell_type": "code",
   "execution_count": 22,
   "metadata": {},
   "outputs": [],
   "source": [
    "data_folder = \"data\"\n",
    "\n",
    "def serialize_json(folder, filename, data):\n",
    "    if not os.path.exists(folder):\n",
    "        os.makedirs(folder, exist_ok=True)\n",
    "    with open(f\"{folder}/{filename}\", 'w', encoding='utf-8') as f:\n",
    "        json.dump(data, f, ensure_ascii=False, indent=4)\n",
    "        f.close()\n",
    "    print(f\"Data serialized to path: {folder}/{filename}\")\n",
    "\n",
    "def read_json(path):\n",
    "    if os.path.exists(path):\n",
    "        with open(path, \"r\", encoding=\"utf8\") as file:\n",
    "            data = json.load(file)\n",
    "        print(f\"Data read from path: {path}\")\n",
    "        return data\n",
    "    else:\n",
    "        print(f\"No data found at path: {path}\")\n",
    "        return {}\n"
   ]
  },
  {
   "cell_type": "markdown",
   "metadata": {},
   "source": [
    "# FOLLOWERS"
   ]
  },
  {
   "cell_type": "code",
   "execution_count": null,
   "metadata": {},
   "outputs": [
    {
     "name": "stdout",
     "output_type": "stream",
     "text": [
      "Processing User mizzaro\n"
     ]
    },
    {
     "name": "stderr",
     "output_type": "stream",
     "text": [
      "Rate limit reached. Sleeping for: 826\n"
     ]
    }
   ],
   "source": [
    "utenti = [\"mizzaro\", \"Miccighel_\"]\n",
    "followers = {}\n",
    "quantity = 5\n",
    "\n",
    "for utente in utenti:\n",
    "    \n",
    "    print(f\"Processing User {utente}\")\n",
    "    \n",
    "    followers_of_utente = []\n",
    "\n",
    "    while len(followers_of_utente)<5:\n",
    "        item=tweepy.Cursor(api.followers,screen_name=utente,skip_status=True,include_user_entities=False).items(1).next()\n",
    "        json_data = item._json\n",
    "        \n",
    "        found_follower = {}\n",
    "        found_follower[\"id\"] = json_data[\"id\"]\n",
    "        found_follower[\"name\"] = json_data[\"name\"]\n",
    "        found_follower[\"screen_name\"] = json_data[\"screen_name\"]\n",
    "        found_follower[\"location\"] = json_data[\"location\"]\n",
    "        found_follower[\"followers_count\"] = json_data[\"followers_count\"]\n",
    "        found_follower[\"friends_count\"] = json_data[\"friends_count\"]\n",
    "\n",
    "        if found_follower not in followers_of_utente and found_follower[\"followers_count\"]<1000 and found_follower[\"friends_count\"]<1000:\n",
    "            followers_of_utente.append(found_follower)\n",
    "            \n",
    "    followers[utente] = followers_of_utente\n",
    "    print(f\"Found {len(followers[utente])} followers for user {utente}\")\n",
    "    \n",
    "serialize_json(data_folder, \"utenti_followers.json\", followers)"
   ]
  },
  {
   "cell_type": "code",
   "execution_count": 25,
   "metadata": {},
   "outputs": [
    {
     "name": "stdout",
     "output_type": "stream",
     "text": [
      "Data read from path: data/utenti_followers.json\n",
      "[]\n"
     ]
    }
   ],
   "source": [
    "followers = read_json(f\"{data_folder}/utenti_followers.json\")\n",
    "# (Pretty) print the first three followers of Iron Man\n",
    "import pprint\n",
    "pp = pprint.PrettyPrinter()\n",
    "pp.pprint(followers['mizzaro'][:3])"
   ]
  },
  {
   "cell_type": "markdown",
   "metadata": {},
   "source": [
    "# ESEMPI"
   ]
  },
  {
   "cell_type": "markdown",
   "metadata": {},
   "source": [
    "# 1 - Scaricate i dettagli del profilo di Mizzaro"
   ]
  },
  {
   "cell_type": "code",
   "execution_count": 26,
   "metadata": {},
   "outputs": [
    {
     "name": "stdout",
     "output_type": "stream",
     "text": [
      "Data serialized to path: data/1_mizzaro_profile_data.json\n",
      "{'description': '',\n",
      " 'followers_count': 162,\n",
      " 'id': 18932422,\n",
      " 'location': '',\n",
      " 'name': 'mizzaro',\n",
      " 'screen_name': 'mizzaro'}\n"
     ]
    }
   ],
   "source": [
    "utente = \"mizzaro\"\n",
    "raw_data = api.get_user(utente)\n",
    "json_data = raw_data._json\n",
    "profile_data = {}\n",
    "profile_data[\"id\"] = json_data[\"id\"]\n",
    "profile_data[\"name\"] = json_data[\"name\"]\n",
    "profile_data[\"screen_name\"] = json_data[\"screen_name\"]\n",
    "profile_data[\"location\"] = json_data[\"location\"]\n",
    "profile_data[\"description\"] = json_data[\"description\"]\n",
    "profile_data[\"followers_count\"] = json_data[\"followers_count\"]\n",
    "serialize_json(data_folder, \"1_mizzaro_profile_data.json\", profile_data)\n",
    "pp.pprint(profile_data)"
   ]
  },
  {
   "cell_type": "markdown",
   "metadata": {},
   "source": [
    "# 2 - Scaricate gli ultimi 10 tweet di Mizzaro"
   ]
  },
  {
   "cell_type": "code",
   "execution_count": 27,
   "metadata": {},
   "outputs": [
    {
     "name": "stdout",
     "output_type": "stream",
     "text": [
      "Data serialized to path: data/2_mizzaro_recent_tweets.json\n",
      "[{'created_at': 'Thu Nov 11 18:44:44 +0000 2021',\n",
      "  'favorite_count': 0,\n",
      "  'full_text': ('@JulioGonzalo1 @lintool But you did it!',),\n",
      "  'id': 1458868311777763333},\n",
      " {'created_at': 'Mon Oct 18 07:49:11 +0000 2021',\n",
      "  'favorite_count': 0,\n",
      "  'full_text': ('RT @eglu81: \"We argue that bias is part of human nature, and '\n",
      "                'that it should be managed rather than removed.\" \\n'\n",
      "                '\\n'\n",
      "                'From our position paper at #…',),\n",
      "  'id': 1450006026745491459},\n",
      " {'created_at': 'Mon Oct 04 22:04:34 +0000 2021',\n",
      "  'favorite_count': 0,\n",
      "  'full_text': ('RT @caslernoel: Anti-vaxxers react to FB outage: ‘how am I '\n",
      "                'supposed to do my own research now?’',),\n",
      "  'id': 1445147863453995013},\n",
      " {'created_at': 'Mon Oct 04 21:39:32 +0000 2021',\n",
      "  'favorite_count': 0,\n",
      "  'full_text': ('RT @AcademicsSay: academia is wild because one day you get '\n",
      "                'behind on writing and then you stay that way your entire '\n",
      "                'career',),\n",
      "  'id': 1445141563303157763},\n",
      " {'created_at': 'Fri Sep 17 12:39:26 +0000 2021',\n",
      "  'favorite_count': 0,\n",
      "  'full_text': ('RT @damiano10: We performed a longitudinal study by '\n",
      "                're-launching the task multiple times with both novice and '\n",
      "                'experienced workers, deriving…',),\n",
      "  'id': 1438845048829976585},\n",
      " {'created_at': 'Wed Aug 18 12:23:04 +0000 2021',\n",
      "  'favorite_count': 0,\n",
      "  'full_text': ('RT @damiano10: Our IPM paper titled \"The Many Dimensions of '\n",
      "                'Truthfulness: Crowdsourcing Misinformation Assessments on a '\n",
      "                'Multidimensional Sc…',),\n",
      "  'id': 1427969294353174533},\n",
      " {'created_at': 'Thu Apr 01 08:49:58 +0000 2021',\n",
      "  'favorite_count': 1,\n",
      "  'full_text': ('@2021Ecir @Bloomberg Congrats!!',),\n",
      "  'id': 1377543751690752000},\n",
      " {'created_at': 'Tue Mar 30 10:17:28 +0000 2021',\n",
      "  'favorite_count': 0,\n",
      "  'full_text': ('RT @JulioGonzalo1: Valuable resource: materials for the ECIR '\n",
      "                '2021 tutorial on fake news, disinformation, propaganda, media '\n",
      "                'bias and flatten…',),\n",
      "  'id': 1376840997141876737},\n",
      " {'created_at': 'Tue Feb 16 22:06:14 +0000 2021',\n",
      "  'favorite_count': 0,\n",
      "  'full_text': ('RT @IR_oldie: Many congratulations to @KevinRoitero on '\n",
      "                'receiving a national award for his PhD '\n",
      "                'https://t.co/GqqOfS48LL',),\n",
      "  'id': 1361799072273858567},\n",
      " {'created_at': 'Thu Feb 11 07:17:08 +0000 2021',\n",
      "  'favorite_count': 0,\n",
      "  'full_text': ('RT @LucaBizzarri: E questa vince tutto.\\n'\n",
      "                '２\\u3000ｈｏｕｒｓ\\u3000ｏｆ\\u3000Ｓａｌｖｉｎｉ\\u3000ｃｈｅ\\u3000ｅｌｅｎｃａ\\u3000'\n",
      "                'ｃｏｓｅ\\u3000ｌｏ－ｆｉ 遺\\u3000Ｒｅｌａｘａｔｉｏｎ，\\u3000Ｓｌｅｅｐｉｎｇ\\u3000'\n",
      "                'ａｎｄ\\u3000Ｃｈｉｌ... https://t.co/WowOG3YW1p…',),\n",
      "  'id': 1359763382161801217}]\n"
     ]
    }
   ],
   "source": [
    "utente = \"mizzaro\"\n",
    "tweets = []\n",
    "for item in tweepy.Cursor(\n",
    "        api.user_timeline, \n",
    "        screen_name=utente,\n",
    "        tweet_mode=\"extended\"\n",
    "    ).items(10):\n",
    "    raw_tweet = item._json\n",
    "    tweet = {}\n",
    "    tweet[\"id\"]= raw_tweet[\"id\"]\n",
    "    tweet[\"created_at\"] = raw_tweet[\"created_at\"]\n",
    "    tweet[\"full_text\"] = raw_tweet[\"full_text\"],\n",
    "    tweet[\"favorite_count\"]= raw_tweet[\"favorite_count\"]\n",
    "    tweets.append(tweet)\n",
    "serialize_json(data_folder, \"2_mizzaro_recent_tweets.json\", tweets)\n",
    "pp.pprint(tweets)\n"
   ]
  },
  {
   "cell_type": "markdown",
   "metadata": {},
   "source": [
    "# 3 - Scaricate 20 tweet preferiti da Mizzaro"
   ]
  },
  {
   "cell_type": "code",
   "execution_count": 28,
   "metadata": {},
   "outputs": [
    {
     "name": "stdout",
     "output_type": "stream",
     "text": [
      "Data serialized to path: data/3_mizzaro_favorite_tweets.json\n",
      "[{'created_at': 'Thu Nov 11 18:11:13 +0000 2021',\n",
      "  'favorite_count': 2,\n",
      "  'full_text': ('@lintool \"reproducibility is hard, especially after the first '\n",
      "                'occurrence\" (@mizzaro)',),\n",
      "  'id': 1458859876432723980},\n",
      " {'created_at': 'Tue Nov 09 17:57:21 +0000 2021',\n",
      "  'favorite_count': 232,\n",
      "  'full_text': ('Some news from my side. Totally excited and honored. '\n",
      "                'https://t.co/T4O3ECjIsu',),\n",
      "  'id': 1458131610436579340},\n",
      " {'created_at': 'Sun Nov 07 09:14:29 +0000 2021',\n",
      "  'favorite_count': 11628,\n",
      "  'full_text': ('La differenza tra Berlusconi e Renzi è che Berlusconi faceva '\n",
      "                'di tutto per starci simpatico e il Fatto lavorava sodo per '\n",
      "                'farcelo stare antipatico, mentre Renzi lavora come un matto '\n",
      "                'per star sul cazzo a tutti e il Fatto cerca in tutti i modi '\n",
      "                'di farcelo stare simpatico.',),\n",
      "  'id': 1457275251105144833},\n",
      " {'created_at': 'Sun Nov 07 02:32:32 +0000 2021',\n",
      "  'favorite_count': 131835,\n",
      "  'full_text': (\"i'm so high and i'm going insane looking at this \"\n",
      "                'https://t.co/SvRvIoGNPU',),\n",
      "  'id': 1457174095548887040},\n",
      " {'created_at': 'Fri Nov 05 22:41:16 +0000 2021',\n",
      "  'favorite_count': 41,\n",
      "  'full_text': ('As the last tutorial is running its repetition, we call the '\n",
      "                \"end of #CIKM2021! We hope you've enjoyed the programme and \"\n",
      "                'hope to see you at #CIKM2022. All the best by @eglu81 and '\n",
      "                '@guidozuc. The two of us plus the ~30 people working 24/7 in '\n",
      "                'the background will have a rest now. '\n",
      "                'https://t.co/T7qWcBdYDn',),\n",
      "  'id': 1456753510230355969},\n",
      " {'created_at': 'Fri Nov 05 18:00:36 +0000 2021',\n",
      "  'favorite_count': 2749,\n",
      "  'full_text': ('Non so come siamo passati da quello che si brucia in piazza, '\n",
      "                'quello che ferma i carrarmati, quello che si fa arrestare '\n",
      "                'regalando l’erba e poi questi, che vanno al supermercato '\n",
      "                'senza mascherina e la chiamano “disobbedienza civile”. '\n",
      "                'https://t.co/Qu2guUNKyQ',),\n",
      "  'id': 1456682875588386819},\n",
      " {'created_at': 'Fri Nov 05 07:23:38 +0000 2021',\n",
      "  'favorite_count': 36,\n",
      "  'full_text': ('Shoutout to @guidozuc, @eglu81, organizers, and volunteers '\n",
      "                'for the hard work for running the virtual #cikm2021! Also '\n",
      "                'kudos to @Google (Silver sponsor) and @go1com (Bronze '\n",
      "                'sponsor) for supporting the conference! I enjoyed the talks '\n",
      "                'and the casual interactions in #Gather (#shark😱) '\n",
      "                'https://t.co/LzmRbpqDyP',),\n",
      "  'id': 1456522579749969921},\n",
      " {'created_at': 'Fri Nov 05 00:09:55 +0000 2021',\n",
      "  'favorite_count': 16,\n",
      "  'full_text': ('Is anyone looking forward to catching up over nibbles at the '\n",
      "                \"amazing @cbamadrid's Ballroom? #sigir2022 \"\n",
      "                'https://t.co/eaFdbqB5rI',),\n",
      "  'id': 1456413429191774220},\n",
      " {'created_at': 'Thu Nov 04 17:33:41 +0000 2021',\n",
      "  'favorite_count': 16,\n",
      "  'full_text': ('And this will be #SIGIR2022 plenary room, the theatre '\n",
      "                'Fernando de Rojas at @cbamadrid https://t.co/Gqrq8DlPCf',),\n",
      "  'id': 1456313714244784136},\n",
      " {'created_at': 'Thu Nov 04 17:31:59 +0000 2021',\n",
      "  'favorite_count': 51,\n",
      "  'full_text': ('#SIGIR2022 General Chairs visiting the Ballroom at '\n",
      "                '@cbamadrid  where we will have coffee and lunch breaks '\n",
      "                '@pcastells @eamigocabrera @SIGIRConf '\n",
      "                'https://t.co/VLxIrPu6ut',),\n",
      "  'id': 1456313288573194249},\n",
      " {'created_at': 'Mon Oct 25 07:22:25 +0000 2021',\n",
      "  'favorite_count': 1991,\n",
      "  'full_text': ('Il lunedì è bello perché si legge del rigore che c’era o non '\n",
      "                'c’era, dell’uscita dall’emergenza, dell’opinione di Cacciari, '\n",
      "                'del pirla che ha preso il Covid con l’idrante, di Richard '\n",
      "                'Gere, del nuovo Presidente della Repubblica, il tutto con '\n",
      "                'identici toni e sentito coinvolgimento.',),\n",
      "  'id': 1452536006138269698},\n",
      " {'created_at': 'Mon Oct 25 02:56:58 +0000 2021',\n",
      "  'favorite_count': 4,\n",
      "  'full_text': ('This is me answering questions after having presented \"Bias '\n",
      "                'Management in Crowdsourced Data: Moving Beyond Bias Removal\" '\n",
      "                'at @ACM_CSCW https://t.co/nlrFRwUHeQ '\n",
      "                'https://t.co/4BBv3ECjHL',),\n",
      "  'id': 1452469203584258048},\n",
      " {'created_at': 'Sun Oct 24 15:19:10 +0000 2021',\n",
      "  'favorite_count': 26,\n",
      "  'full_text': ('@OmarMonestier @il_piccolo Trattenere commenti e battute è '\n",
      "                'atto eroico',),\n",
      "  'id': 1452293598834307085},\n",
      " {'created_at': 'Mon Oct 18 02:08:48 +0000 2021',\n",
      "  'favorite_count': 9,\n",
      "  'full_text': ('\"We argue that bias is part of human nature, and that it '\n",
      "                'should be managed rather than removed.\" \\n'\n",
      "                '\\n'\n",
      "                'From our position paper at #CSCW2021 workshop \"Biases in '\n",
      "                'Crowdsourced Data\". Read more at https://t.co/lrzSi9jomZ\\n'\n",
      "                '\\n'\n",
      "                'Happy to hear about different opinions!',),\n",
      "  'id': 1449920368873906184},\n",
      " {'created_at': 'Mon Oct 04 17:47:38 +0000 2021',\n",
      "  'favorite_count': 35738,\n",
      "  'full_text': ('Anti-vaxxers react to FB outage: ‘how am I supposed to do my '\n",
      "                'own research now?’',),\n",
      "  'id': 1445083200552845321},\n",
      " {'created_at': 'Fri Sep 17 21:32:56 +0000 2021',\n",
      "  'favorite_count': 5595,\n",
      "  'full_text': ('academia is wild because one day you get behind on writing '\n",
      "                'and then you stay that way your entire career',),\n",
      "  'id': 1438979306567393286},\n",
      " {'created_at': 'Fri Sep 17 18:29:16 +0000 2021',\n",
      "  'favorite_count': 2409,\n",
      "  'full_text': ('\"A volte però è lecito anche domandarsi: ma questo #Hitler '\n",
      "                'era completamente fuori di testa, era completamente '\n",
      "                \"obnubilato oppure c'è stato un comportamento esasperante, \"\n",
      "                \"aggressivo anche dall'altra parte? È una domanda, dobbiamo \"\n",
      "                'farcela soprattutto qui in tribunale a #Norimberga.\"',),\n",
      "  'id': 1438933085387698177},\n",
      " {'created_at': 'Fri Sep 17 13:14:59 +0000 2021',\n",
      "  'favorite_count': 10,\n",
      "  'full_text': (\"It's great to have IRL discussions again!\\n\"\n",
      "                '\\n'\n",
      "                'Apadt from that, these pictures may have historic value wrt '\n",
      "                'the pandemic perspective, looking back 20 years from now - '\n",
      "                'social distance and masks. (Something else than a masked LM!) '\n",
      "                'https://t.co/lNs859zYav',),\n",
      "  'id': 1438853994902917120},\n",
      " {'created_at': 'Fri Sep 17 08:39:44 +0000 2021',\n",
      "  'favorite_count': 11499,\n",
      "  'full_text': ('La #palombelli ha già detto che se provochi un mafioso non '\n",
      "                'pagandogli il pizzo è normale che ti dia fuoco al negozio?',),\n",
      "  'id': 1438784723917148164},\n",
      " {'created_at': 'Fri Sep 17 05:56:27 +0000 2021',\n",
      "  'favorite_count': 8,\n",
      "  'full_text': ('We performed a longitudinal study by re-launching the task '\n",
      "                'multiple times with both novice and experienced workers, '\n",
      "                'deriving insights on how the behavior and quality change over '\n",
      "                'time.\\n'\n",
      "                '\\n'\n",
      "                '📄 Find more in our Personal and Ubiquitous Computing paper:\\n'\n",
      "                '\\n'\n",
      "                ' https://t.co/No5Ps3qmVu https://t.co/fFkzGCXd93',),\n",
      "  'id': 1438743634480795657}]\n"
     ]
    }
   ],
   "source": [
    "utente = \"mizzaro\"\n",
    "raw_favorites = api.favorites(\n",
    "    screen_name=utente,\n",
    "    tweet_mode=\"extended\"\n",
    ")\n",
    "tweets = []\n",
    "for raw_tweet in raw_favorites:\n",
    "    json_tweet = raw_tweet._json\n",
    "    tweet = {}\n",
    "    tweet[\"id\"]= json_tweet[\"id\"]\n",
    "    tweet[\"created_at\"] = json_tweet[\"created_at\"]\n",
    "    tweet[\"full_text\"] = json_tweet[\"full_text\"],\n",
    "    tweet[\"favorite_count\"]= json_tweet[\"favorite_count\"]\n",
    "    tweets.append(tweet)\n",
    "serialize_json(data_folder, \"3_mizzaro_favorite_tweets.json\", tweets)\n",
    "pp.pprint(tweets)\n"
   ]
  },
  {
   "cell_type": "markdown",
   "metadata": {},
   "source": [
    "# 4 - Scaricare 1 retwittatore di un ciascuno dei tweet preferiti "
   ]
  },
  {
   "cell_type": "code",
   "execution_count": 29,
   "metadata": {},
   "outputs": [
    {
     "name": "stdout",
     "output_type": "stream",
     "text": [
      "Data read from path: data/3_mizzaro_favorite_tweets.json\n",
      "Processing tweet with id: 1458859876432723980\n",
      "Processing tweet with id: 1458131610436579340\n",
      "Retweeter ID: 26711278\n",
      "Processing tweet with id: 1457275251105144833\n",
      "Retweeter ID: 713663420827049984\n",
      "Processing tweet with id: 1457174095548887040\n",
      "Retweeter ID: 2599246273\n"
     ]
    },
    {
     "ename": "KeyboardInterrupt",
     "evalue": "",
     "output_type": "error",
     "traceback": [
      "\u001b[0;31m---------------------------------------------------------------------------\u001b[0m",
      "\u001b[0;31mKeyboardInterrupt\u001b[0m                         Traceback (most recent call last)",
      "\u001b[0;32m<ipython-input-29-900462c37764>\u001b[0m in \u001b[0;36m<module>\u001b[0;34m\u001b[0m\n\u001b[1;32m      9\u001b[0m         ).items(1):\n\u001b[1;32m     10\u001b[0m         \u001b[0mprint\u001b[0m\u001b[0;34m(\u001b[0m\u001b[0;34mf\"Retweeter ID: {item}\"\u001b[0m\u001b[0;34m)\u001b[0m\u001b[0;34m\u001b[0m\u001b[0;34m\u001b[0m\u001b[0m\n\u001b[0;32m---> 11\u001b[0;31m         \u001b[0mjson_data\u001b[0m \u001b[0;34m=\u001b[0m \u001b[0mapi\u001b[0m\u001b[0;34m.\u001b[0m\u001b[0mget_user\u001b[0m\u001b[0;34m(\u001b[0m\u001b[0mid\u001b[0m\u001b[0;34m=\u001b[0m\u001b[0mitem\u001b[0m\u001b[0;34m)\u001b[0m\u001b[0;34m.\u001b[0m\u001b[0m_json\u001b[0m\u001b[0;34m\u001b[0m\u001b[0;34m\u001b[0m\u001b[0m\n\u001b[0m\u001b[1;32m     12\u001b[0m         \u001b[0;32mif\u001b[0m \u001b[0mjson_data\u001b[0m\u001b[0;34m[\u001b[0m\u001b[0;34m\"id\"\u001b[0m\u001b[0;34m]\u001b[0m \u001b[0;32mnot\u001b[0m \u001b[0;32min\u001b[0m \u001b[0mretweeters\u001b[0m\u001b[0;34m.\u001b[0m\u001b[0mkeys\u001b[0m\u001b[0;34m(\u001b[0m\u001b[0;34m)\u001b[0m\u001b[0;34m:\u001b[0m\u001b[0;34m\u001b[0m\u001b[0;34m\u001b[0m\u001b[0m\n\u001b[1;32m     13\u001b[0m             \u001b[0mprofile_data\u001b[0m \u001b[0;34m=\u001b[0m \u001b[0;34m{\u001b[0m\u001b[0;34m}\u001b[0m\u001b[0;34m\u001b[0m\u001b[0;34m\u001b[0m\u001b[0m\n",
      "\u001b[0;32m/opt/miniconda3/lib/python3.9/site-packages/tweepy/binder.py\u001b[0m in \u001b[0;36m_call\u001b[0;34m(*args, **kwargs)\u001b[0m\n\u001b[1;32m    251\u001b[0m                 \u001b[0;32mreturn\u001b[0m \u001b[0mmethod\u001b[0m\u001b[0;34m\u001b[0m\u001b[0;34m\u001b[0m\u001b[0m\n\u001b[1;32m    252\u001b[0m             \u001b[0;32melse\u001b[0m\u001b[0;34m:\u001b[0m\u001b[0;34m\u001b[0m\u001b[0;34m\u001b[0m\u001b[0m\n\u001b[0;32m--> 253\u001b[0;31m                 \u001b[0;32mreturn\u001b[0m \u001b[0mmethod\u001b[0m\u001b[0;34m.\u001b[0m\u001b[0mexecute\u001b[0m\u001b[0;34m(\u001b[0m\u001b[0;34m)\u001b[0m\u001b[0;34m\u001b[0m\u001b[0;34m\u001b[0m\u001b[0m\n\u001b[0m\u001b[1;32m    254\u001b[0m         \u001b[0;32mfinally\u001b[0m\u001b[0;34m:\u001b[0m\u001b[0;34m\u001b[0m\u001b[0;34m\u001b[0m\u001b[0m\n\u001b[1;32m    255\u001b[0m             \u001b[0mmethod\u001b[0m\u001b[0;34m.\u001b[0m\u001b[0msession\u001b[0m\u001b[0;34m.\u001b[0m\u001b[0mclose\u001b[0m\u001b[0;34m(\u001b[0m\u001b[0;34m)\u001b[0m\u001b[0;34m\u001b[0m\u001b[0;34m\u001b[0m\u001b[0m\n",
      "\u001b[0;32m/opt/miniconda3/lib/python3.9/site-packages/tweepy/binder.py\u001b[0m in \u001b[0;36mexecute\u001b[0;34m(self)\u001b[0m\n\u001b[1;32m    182\u001b[0m                 \u001b[0;31m# Execute request\u001b[0m\u001b[0;34m\u001b[0m\u001b[0;34m\u001b[0m\u001b[0;34m\u001b[0m\u001b[0m\n\u001b[1;32m    183\u001b[0m                 \u001b[0;32mtry\u001b[0m\u001b[0;34m:\u001b[0m\u001b[0;34m\u001b[0m\u001b[0;34m\u001b[0m\u001b[0m\n\u001b[0;32m--> 184\u001b[0;31m                     resp = self.session.request(self.method,\n\u001b[0m\u001b[1;32m    185\u001b[0m                                                 \u001b[0mfull_url\u001b[0m\u001b[0;34m,\u001b[0m\u001b[0;34m\u001b[0m\u001b[0;34m\u001b[0m\u001b[0m\n\u001b[1;32m    186\u001b[0m                                                 \u001b[0mdata\u001b[0m\u001b[0;34m=\u001b[0m\u001b[0mself\u001b[0m\u001b[0;34m.\u001b[0m\u001b[0mpost_data\u001b[0m\u001b[0;34m,\u001b[0m\u001b[0;34m\u001b[0m\u001b[0;34m\u001b[0m\u001b[0m\n",
      "\u001b[0;32m/opt/miniconda3/lib/python3.9/site-packages/requests/sessions.py\u001b[0m in \u001b[0;36mrequest\u001b[0;34m(self, method, url, params, data, headers, cookies, files, auth, timeout, allow_redirects, proxies, hooks, stream, verify, cert, json)\u001b[0m\n\u001b[1;32m    540\u001b[0m         }\n\u001b[1;32m    541\u001b[0m         \u001b[0msend_kwargs\u001b[0m\u001b[0;34m.\u001b[0m\u001b[0mupdate\u001b[0m\u001b[0;34m(\u001b[0m\u001b[0msettings\u001b[0m\u001b[0;34m)\u001b[0m\u001b[0;34m\u001b[0m\u001b[0;34m\u001b[0m\u001b[0m\n\u001b[0;32m--> 542\u001b[0;31m         \u001b[0mresp\u001b[0m \u001b[0;34m=\u001b[0m \u001b[0mself\u001b[0m\u001b[0;34m.\u001b[0m\u001b[0msend\u001b[0m\u001b[0;34m(\u001b[0m\u001b[0mprep\u001b[0m\u001b[0;34m,\u001b[0m \u001b[0;34m**\u001b[0m\u001b[0msend_kwargs\u001b[0m\u001b[0;34m)\u001b[0m\u001b[0;34m\u001b[0m\u001b[0;34m\u001b[0m\u001b[0m\n\u001b[0m\u001b[1;32m    543\u001b[0m \u001b[0;34m\u001b[0m\u001b[0m\n\u001b[1;32m    544\u001b[0m         \u001b[0;32mreturn\u001b[0m \u001b[0mresp\u001b[0m\u001b[0;34m\u001b[0m\u001b[0;34m\u001b[0m\u001b[0m\n",
      "\u001b[0;32m/opt/miniconda3/lib/python3.9/site-packages/requests/sessions.py\u001b[0m in \u001b[0;36msend\u001b[0;34m(self, request, **kwargs)\u001b[0m\n\u001b[1;32m    653\u001b[0m \u001b[0;34m\u001b[0m\u001b[0m\n\u001b[1;32m    654\u001b[0m         \u001b[0;31m# Send the request\u001b[0m\u001b[0;34m\u001b[0m\u001b[0;34m\u001b[0m\u001b[0;34m\u001b[0m\u001b[0m\n\u001b[0;32m--> 655\u001b[0;31m         \u001b[0mr\u001b[0m \u001b[0;34m=\u001b[0m \u001b[0madapter\u001b[0m\u001b[0;34m.\u001b[0m\u001b[0msend\u001b[0m\u001b[0;34m(\u001b[0m\u001b[0mrequest\u001b[0m\u001b[0;34m,\u001b[0m \u001b[0;34m**\u001b[0m\u001b[0mkwargs\u001b[0m\u001b[0;34m)\u001b[0m\u001b[0;34m\u001b[0m\u001b[0;34m\u001b[0m\u001b[0m\n\u001b[0m\u001b[1;32m    656\u001b[0m \u001b[0;34m\u001b[0m\u001b[0m\n\u001b[1;32m    657\u001b[0m         \u001b[0;31m# Total elapsed time of the request (approximately)\u001b[0m\u001b[0;34m\u001b[0m\u001b[0;34m\u001b[0m\u001b[0;34m\u001b[0m\u001b[0m\n",
      "\u001b[0;32m/opt/miniconda3/lib/python3.9/site-packages/requests/adapters.py\u001b[0m in \u001b[0;36msend\u001b[0;34m(self, request, stream, timeout, verify, cert, proxies)\u001b[0m\n\u001b[1;32m    437\u001b[0m         \u001b[0;32mtry\u001b[0m\u001b[0;34m:\u001b[0m\u001b[0;34m\u001b[0m\u001b[0;34m\u001b[0m\u001b[0m\n\u001b[1;32m    438\u001b[0m             \u001b[0;32mif\u001b[0m \u001b[0;32mnot\u001b[0m \u001b[0mchunked\u001b[0m\u001b[0;34m:\u001b[0m\u001b[0;34m\u001b[0m\u001b[0;34m\u001b[0m\u001b[0m\n\u001b[0;32m--> 439\u001b[0;31m                 resp = conn.urlopen(\n\u001b[0m\u001b[1;32m    440\u001b[0m                     \u001b[0mmethod\u001b[0m\u001b[0;34m=\u001b[0m\u001b[0mrequest\u001b[0m\u001b[0;34m.\u001b[0m\u001b[0mmethod\u001b[0m\u001b[0;34m,\u001b[0m\u001b[0;34m\u001b[0m\u001b[0;34m\u001b[0m\u001b[0m\n\u001b[1;32m    441\u001b[0m                     \u001b[0murl\u001b[0m\u001b[0;34m=\u001b[0m\u001b[0murl\u001b[0m\u001b[0;34m,\u001b[0m\u001b[0;34m\u001b[0m\u001b[0;34m\u001b[0m\u001b[0m\n",
      "\u001b[0;32m/opt/miniconda3/lib/python3.9/site-packages/urllib3/connectionpool.py\u001b[0m in \u001b[0;36murlopen\u001b[0;34m(self, method, url, body, headers, retries, redirect, assert_same_host, timeout, pool_timeout, release_conn, chunked, body_pos, **response_kw)\u001b[0m\n\u001b[1;32m    697\u001b[0m \u001b[0;34m\u001b[0m\u001b[0m\n\u001b[1;32m    698\u001b[0m             \u001b[0;31m# Make the request on the httplib connection object.\u001b[0m\u001b[0;34m\u001b[0m\u001b[0;34m\u001b[0m\u001b[0;34m\u001b[0m\u001b[0m\n\u001b[0;32m--> 699\u001b[0;31m             httplib_response = self._make_request(\n\u001b[0m\u001b[1;32m    700\u001b[0m                 \u001b[0mconn\u001b[0m\u001b[0;34m,\u001b[0m\u001b[0;34m\u001b[0m\u001b[0;34m\u001b[0m\u001b[0m\n\u001b[1;32m    701\u001b[0m                 \u001b[0mmethod\u001b[0m\u001b[0;34m,\u001b[0m\u001b[0;34m\u001b[0m\u001b[0;34m\u001b[0m\u001b[0m\n",
      "\u001b[0;32m/opt/miniconda3/lib/python3.9/site-packages/urllib3/connectionpool.py\u001b[0m in \u001b[0;36m_make_request\u001b[0;34m(self, conn, method, url, timeout, chunked, **httplib_request_kw)\u001b[0m\n\u001b[1;32m    380\u001b[0m         \u001b[0;31m# Trigger any extra validation we need to do.\u001b[0m\u001b[0;34m\u001b[0m\u001b[0;34m\u001b[0m\u001b[0;34m\u001b[0m\u001b[0m\n\u001b[1;32m    381\u001b[0m         \u001b[0;32mtry\u001b[0m\u001b[0;34m:\u001b[0m\u001b[0;34m\u001b[0m\u001b[0;34m\u001b[0m\u001b[0m\n\u001b[0;32m--> 382\u001b[0;31m             \u001b[0mself\u001b[0m\u001b[0;34m.\u001b[0m\u001b[0m_validate_conn\u001b[0m\u001b[0;34m(\u001b[0m\u001b[0mconn\u001b[0m\u001b[0;34m)\u001b[0m\u001b[0;34m\u001b[0m\u001b[0;34m\u001b[0m\u001b[0m\n\u001b[0m\u001b[1;32m    383\u001b[0m         \u001b[0;32mexcept\u001b[0m \u001b[0;34m(\u001b[0m\u001b[0mSocketTimeout\u001b[0m\u001b[0;34m,\u001b[0m \u001b[0mBaseSSLError\u001b[0m\u001b[0;34m)\u001b[0m \u001b[0;32mas\u001b[0m \u001b[0me\u001b[0m\u001b[0;34m:\u001b[0m\u001b[0;34m\u001b[0m\u001b[0;34m\u001b[0m\u001b[0m\n\u001b[1;32m    384\u001b[0m             \u001b[0;31m# Py2 raises this as a BaseSSLError, Py3 raises it as socket timeout.\u001b[0m\u001b[0;34m\u001b[0m\u001b[0;34m\u001b[0m\u001b[0;34m\u001b[0m\u001b[0m\n",
      "\u001b[0;32m/opt/miniconda3/lib/python3.9/site-packages/urllib3/connectionpool.py\u001b[0m in \u001b[0;36m_validate_conn\u001b[0;34m(self, conn)\u001b[0m\n\u001b[1;32m   1008\u001b[0m         \u001b[0;31m# Force connect early to allow us to validate the connection.\u001b[0m\u001b[0;34m\u001b[0m\u001b[0;34m\u001b[0m\u001b[0;34m\u001b[0m\u001b[0m\n\u001b[1;32m   1009\u001b[0m         \u001b[0;32mif\u001b[0m \u001b[0;32mnot\u001b[0m \u001b[0mgetattr\u001b[0m\u001b[0;34m(\u001b[0m\u001b[0mconn\u001b[0m\u001b[0;34m,\u001b[0m \u001b[0;34m\"sock\"\u001b[0m\u001b[0;34m,\u001b[0m \u001b[0;32mNone\u001b[0m\u001b[0;34m)\u001b[0m\u001b[0;34m:\u001b[0m  \u001b[0;31m# AppEngine might not have  `.sock`\u001b[0m\u001b[0;34m\u001b[0m\u001b[0;34m\u001b[0m\u001b[0m\n\u001b[0;32m-> 1010\u001b[0;31m             \u001b[0mconn\u001b[0m\u001b[0;34m.\u001b[0m\u001b[0mconnect\u001b[0m\u001b[0;34m(\u001b[0m\u001b[0;34m)\u001b[0m\u001b[0;34m\u001b[0m\u001b[0;34m\u001b[0m\u001b[0m\n\u001b[0m\u001b[1;32m   1011\u001b[0m \u001b[0;34m\u001b[0m\u001b[0m\n\u001b[1;32m   1012\u001b[0m         \u001b[0;32mif\u001b[0m \u001b[0;32mnot\u001b[0m \u001b[0mconn\u001b[0m\u001b[0;34m.\u001b[0m\u001b[0mis_verified\u001b[0m\u001b[0;34m:\u001b[0m\u001b[0;34m\u001b[0m\u001b[0;34m\u001b[0m\u001b[0m\n",
      "\u001b[0;32m/opt/miniconda3/lib/python3.9/site-packages/urllib3/connection.py\u001b[0m in \u001b[0;36mconnect\u001b[0;34m(self)\u001b[0m\n\u001b[1;32m    351\u001b[0m     \u001b[0;32mdef\u001b[0m \u001b[0mconnect\u001b[0m\u001b[0;34m(\u001b[0m\u001b[0mself\u001b[0m\u001b[0;34m)\u001b[0m\u001b[0;34m:\u001b[0m\u001b[0;34m\u001b[0m\u001b[0;34m\u001b[0m\u001b[0m\n\u001b[1;32m    352\u001b[0m         \u001b[0;31m# Add certificate verification\u001b[0m\u001b[0;34m\u001b[0m\u001b[0;34m\u001b[0m\u001b[0;34m\u001b[0m\u001b[0m\n\u001b[0;32m--> 353\u001b[0;31m         \u001b[0mconn\u001b[0m \u001b[0;34m=\u001b[0m \u001b[0mself\u001b[0m\u001b[0;34m.\u001b[0m\u001b[0m_new_conn\u001b[0m\u001b[0;34m(\u001b[0m\u001b[0;34m)\u001b[0m\u001b[0;34m\u001b[0m\u001b[0;34m\u001b[0m\u001b[0m\n\u001b[0m\u001b[1;32m    354\u001b[0m         \u001b[0mhostname\u001b[0m \u001b[0;34m=\u001b[0m \u001b[0mself\u001b[0m\u001b[0;34m.\u001b[0m\u001b[0mhost\u001b[0m\u001b[0;34m\u001b[0m\u001b[0;34m\u001b[0m\u001b[0m\n\u001b[1;32m    355\u001b[0m         \u001b[0mtls_in_tls\u001b[0m \u001b[0;34m=\u001b[0m \u001b[0;32mFalse\u001b[0m\u001b[0;34m\u001b[0m\u001b[0;34m\u001b[0m\u001b[0m\n",
      "\u001b[0;32m/opt/miniconda3/lib/python3.9/site-packages/urllib3/connection.py\u001b[0m in \u001b[0;36m_new_conn\u001b[0;34m(self)\u001b[0m\n\u001b[1;32m    167\u001b[0m \u001b[0;34m\u001b[0m\u001b[0m\n\u001b[1;32m    168\u001b[0m         \u001b[0;32mtry\u001b[0m\u001b[0;34m:\u001b[0m\u001b[0;34m\u001b[0m\u001b[0;34m\u001b[0m\u001b[0m\n\u001b[0;32m--> 169\u001b[0;31m             conn = connection.create_connection(\n\u001b[0m\u001b[1;32m    170\u001b[0m                 \u001b[0;34m(\u001b[0m\u001b[0mself\u001b[0m\u001b[0;34m.\u001b[0m\u001b[0m_dns_host\u001b[0m\u001b[0;34m,\u001b[0m \u001b[0mself\u001b[0m\u001b[0;34m.\u001b[0m\u001b[0mport\u001b[0m\u001b[0;34m)\u001b[0m\u001b[0;34m,\u001b[0m \u001b[0mself\u001b[0m\u001b[0;34m.\u001b[0m\u001b[0mtimeout\u001b[0m\u001b[0;34m,\u001b[0m \u001b[0;34m**\u001b[0m\u001b[0mextra_kw\u001b[0m\u001b[0;34m\u001b[0m\u001b[0;34m\u001b[0m\u001b[0m\n\u001b[1;32m    171\u001b[0m             )\n",
      "\u001b[0;32m/opt/miniconda3/lib/python3.9/site-packages/urllib3/util/connection.py\u001b[0m in \u001b[0;36mcreate_connection\u001b[0;34m(address, timeout, source_address, socket_options)\u001b[0m\n\u001b[1;32m     75\u001b[0m         \u001b[0msock\u001b[0m \u001b[0;34m=\u001b[0m \u001b[0;32mNone\u001b[0m\u001b[0;34m\u001b[0m\u001b[0;34m\u001b[0m\u001b[0m\n\u001b[1;32m     76\u001b[0m         \u001b[0;32mtry\u001b[0m\u001b[0;34m:\u001b[0m\u001b[0;34m\u001b[0m\u001b[0;34m\u001b[0m\u001b[0m\n\u001b[0;32m---> 77\u001b[0;31m             \u001b[0msock\u001b[0m \u001b[0;34m=\u001b[0m \u001b[0msocket\u001b[0m\u001b[0;34m.\u001b[0m\u001b[0msocket\u001b[0m\u001b[0;34m(\u001b[0m\u001b[0maf\u001b[0m\u001b[0;34m,\u001b[0m \u001b[0msocktype\u001b[0m\u001b[0;34m,\u001b[0m \u001b[0mproto\u001b[0m\u001b[0;34m)\u001b[0m\u001b[0;34m\u001b[0m\u001b[0;34m\u001b[0m\u001b[0m\n\u001b[0m\u001b[1;32m     78\u001b[0m \u001b[0;34m\u001b[0m\u001b[0m\n\u001b[1;32m     79\u001b[0m             \u001b[0;31m# If provided, set socket level options before connecting.\u001b[0m\u001b[0;34m\u001b[0m\u001b[0;34m\u001b[0m\u001b[0;34m\u001b[0m\u001b[0m\n",
      "\u001b[0;32m/opt/miniconda3/lib/python3.9/socket.py\u001b[0m in \u001b[0;36m__init__\u001b[0;34m(self, family, type, proto, fileno)\u001b[0m\n\u001b[1;32m    230\u001b[0m             \u001b[0;32mif\u001b[0m \u001b[0mproto\u001b[0m \u001b[0;34m==\u001b[0m \u001b[0;34m-\u001b[0m\u001b[0;36m1\u001b[0m\u001b[0;34m:\u001b[0m\u001b[0;34m\u001b[0m\u001b[0;34m\u001b[0m\u001b[0m\n\u001b[1;32m    231\u001b[0m                 \u001b[0mproto\u001b[0m \u001b[0;34m=\u001b[0m \u001b[0;36m0\u001b[0m\u001b[0;34m\u001b[0m\u001b[0;34m\u001b[0m\u001b[0m\n\u001b[0;32m--> 232\u001b[0;31m         \u001b[0m_socket\u001b[0m\u001b[0;34m.\u001b[0m\u001b[0msocket\u001b[0m\u001b[0;34m.\u001b[0m\u001b[0m__init__\u001b[0m\u001b[0;34m(\u001b[0m\u001b[0mself\u001b[0m\u001b[0;34m,\u001b[0m \u001b[0mfamily\u001b[0m\u001b[0;34m,\u001b[0m \u001b[0mtype\u001b[0m\u001b[0;34m,\u001b[0m \u001b[0mproto\u001b[0m\u001b[0;34m,\u001b[0m \u001b[0mfileno\u001b[0m\u001b[0;34m)\u001b[0m\u001b[0;34m\u001b[0m\u001b[0;34m\u001b[0m\u001b[0m\n\u001b[0m\u001b[1;32m    233\u001b[0m         \u001b[0mself\u001b[0m\u001b[0;34m.\u001b[0m\u001b[0m_io_refs\u001b[0m \u001b[0;34m=\u001b[0m \u001b[0;36m0\u001b[0m\u001b[0;34m\u001b[0m\u001b[0;34m\u001b[0m\u001b[0m\n\u001b[1;32m    234\u001b[0m         \u001b[0mself\u001b[0m\u001b[0;34m.\u001b[0m\u001b[0m_closed\u001b[0m \u001b[0;34m=\u001b[0m \u001b[0;32mFalse\u001b[0m\u001b[0;34m\u001b[0m\u001b[0;34m\u001b[0m\u001b[0m\n",
      "\u001b[0;31mKeyboardInterrupt\u001b[0m: "
     ]
    }
   ],
   "source": [
    "mizzaro_favorite_tweets = read_json(\"data/3_mizzaro_favorite_tweets.json\")\n",
    "utente = \"mizzaro\"\n",
    "retweeters = {}\n",
    "for tweet in mizzaro_favorite_tweets:\n",
    "    print(f\"Processing tweet with id: {tweet['id']}\")\n",
    "    for item in tweepy.Cursor(\n",
    "            api.retweeters, \n",
    "            id=tweet[\"id\"],\n",
    "        ).items(1):\n",
    "        print(f\"Retweeter ID: {item}\")    \n",
    "        json_data = api.get_user(id=item)._json\n",
    "        if json_data[\"id\"] not in retweeters.keys():\n",
    "            profile_data = {}\n",
    "            profile_data[\"id\"] = json_data[\"id\"]\n",
    "            profile_data[\"name\"] = json_data[\"name\"]\n",
    "            profile_data[\"screen_name\"] = json_data[\"screen_name\"]\n",
    "            profile_data[\"location\"] = json_data[\"location\"]\n",
    "            profile_data[\"description\"] = json_data[\"description\"]\n",
    "            profile_data[\"followers_count\"] = json_data[\"followers_count\"]\n",
    "            retweeters[profile_data[\"id\"]] = profile_data\n",
    "serialize_json(data_folder, \"4_mizzaro_favorite_tweets_retweeters.json\", retweeters)\n",
    "pp.pprint(retweeters)\n",
    "     "
   ]
  },
  {
   "cell_type": "code",
   "execution_count": null,
   "metadata": {},
   "outputs": [],
   "source": []
  }
 ],
 "metadata": {
  "interpreter": {
   "hash": "fc1af5bb959988090aae89c5edc49f607d02c66b9544d1d04b03219fb3065724"
  },
  "kernelspec": {
   "display_name": "Python 3",
   "language": "python",
   "name": "python3"
  },
  "language_info": {
   "codemirror_mode": {
    "name": "ipython",
    "version": 3
   },
   "file_extension": ".py",
   "mimetype": "text/x-python",
   "name": "python",
   "nbconvert_exporter": "python",
   "pygments_lexer": "ipython3",
   "version": "3.9.5"
  }
 },
 "nbformat": 4,
 "nbformat_minor": 4
}
